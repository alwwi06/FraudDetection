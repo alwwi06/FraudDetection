{
 "cells": [
  {
   "cell_type": "code",
   "execution_count": 426,
   "id": "99d8a77f",
   "metadata": {},
   "outputs": [],
   "source": [
    "# AWS\n",
    "import boto3\n",
    "import sagemaker\n",
    "\n",
    "#visualization\n",
    "import matplotlib.pyplot as plt\n",
    "%matplotlib inline\n",
    "%config InlineBackend.figure_format='retina'\n",
    "plt.style.use('seaborn')\n",
    "import seaborn as sns\n",
    "\n",
    "# data analysis\n",
    "import pandas as pd\n",
    "import numpy as np\n",
    "\n",
    "import os\n",
    "import pickle"
   ]
  },
  {
   "cell_type": "code",
   "execution_count": 427,
   "id": "84106a7b",
   "metadata": {},
   "outputs": [
    {
     "name": "stdout",
     "output_type": "stream",
     "text": [
      "region name: us-east-2\n"
     ]
    }
   ],
   "source": [
    "# Sagemaker activation\n",
    "session = boto3.session.Session()\n",
    "region_name = session.region_name\n",
    "print(f'region name: {region_name}')\n",
    "sagemaker_session = sagemaker.Session()\n",
    "bucket = 'klarnadataset'\n",
    "role = sagemaker.get_execution_role()"
   ]
  },
  {
   "cell_type": "code",
   "execution_count": 428,
   "id": "6b42750b",
   "metadata": {},
   "outputs": [
    {
     "data": {
      "text/html": [
       "<div>\n",
       "<style scoped>\n",
       "    .dataframe tbody tr th:only-of-type {\n",
       "        vertical-align: middle;\n",
       "    }\n",
       "\n",
       "    .dataframe tbody tr th {\n",
       "        vertical-align: top;\n",
       "    }\n",
       "\n",
       "    .dataframe thead th {\n",
       "        text-align: right;\n",
       "    }\n",
       "</style>\n",
       "<table border=\"1\" class=\"dataframe\">\n",
       "  <thead>\n",
       "    <tr style=\"text-align: right;\">\n",
       "      <th></th>\n",
       "      <th>uuid</th>\n",
       "      <th>default</th>\n",
       "      <th>account_amount_added_12_24m</th>\n",
       "      <th>account_days_in_dc_12_24m</th>\n",
       "      <th>account_days_in_rem_12_24m</th>\n",
       "      <th>account_days_in_term_12_24m</th>\n",
       "      <th>account_incoming_debt_vs_paid_0_24m</th>\n",
       "      <th>account_status</th>\n",
       "      <th>account_worst_status_0_3m</th>\n",
       "      <th>account_worst_status_12_24m</th>\n",
       "      <th>...</th>\n",
       "      <th>status_3rd_last_archived_0_24m</th>\n",
       "      <th>status_max_archived_0_6_months</th>\n",
       "      <th>status_max_archived_0_12_months</th>\n",
       "      <th>status_max_archived_0_24_months</th>\n",
       "      <th>recovery_debt</th>\n",
       "      <th>sum_capital_paid_account_0_12m</th>\n",
       "      <th>sum_capital_paid_account_12_24m</th>\n",
       "      <th>sum_paid_inv_0_12m</th>\n",
       "      <th>time_hours</th>\n",
       "      <th>worst_status_active_inv</th>\n",
       "    </tr>\n",
       "  </thead>\n",
       "  <tbody>\n",
       "    <tr>\n",
       "      <th>0</th>\n",
       "      <td>63f69b2c-8b1c-4740-b78d-52ed9a4515ac</td>\n",
       "      <td>0.0</td>\n",
       "      <td>0</td>\n",
       "      <td>0.0</td>\n",
       "      <td>0.0</td>\n",
       "      <td>0.0</td>\n",
       "      <td>0.0</td>\n",
       "      <td>1.0</td>\n",
       "      <td>1.0</td>\n",
       "      <td>NaN</td>\n",
       "      <td>...</td>\n",
       "      <td>1</td>\n",
       "      <td>1</td>\n",
       "      <td>1</td>\n",
       "      <td>1</td>\n",
       "      <td>0</td>\n",
       "      <td>0</td>\n",
       "      <td>0</td>\n",
       "      <td>178839</td>\n",
       "      <td>9.653333</td>\n",
       "      <td>1.0</td>\n",
       "    </tr>\n",
       "    <tr>\n",
       "      <th>1</th>\n",
       "      <td>0e961183-8c15-4470-9a5e-07a1bd207661</td>\n",
       "      <td>0.0</td>\n",
       "      <td>0</td>\n",
       "      <td>0.0</td>\n",
       "      <td>0.0</td>\n",
       "      <td>0.0</td>\n",
       "      <td>NaN</td>\n",
       "      <td>1.0</td>\n",
       "      <td>1.0</td>\n",
       "      <td>1.0</td>\n",
       "      <td>...</td>\n",
       "      <td>1</td>\n",
       "      <td>1</td>\n",
       "      <td>2</td>\n",
       "      <td>2</td>\n",
       "      <td>0</td>\n",
       "      <td>0</td>\n",
       "      <td>0</td>\n",
       "      <td>49014</td>\n",
       "      <td>13.181389</td>\n",
       "      <td>NaN</td>\n",
       "    </tr>\n",
       "    <tr>\n",
       "      <th>2</th>\n",
       "      <td>d8edaae6-4368-44e0-941e-8328f203e64e</td>\n",
       "      <td>0.0</td>\n",
       "      <td>0</td>\n",
       "      <td>0.0</td>\n",
       "      <td>0.0</td>\n",
       "      <td>0.0</td>\n",
       "      <td>NaN</td>\n",
       "      <td>NaN</td>\n",
       "      <td>NaN</td>\n",
       "      <td>NaN</td>\n",
       "      <td>...</td>\n",
       "      <td>1</td>\n",
       "      <td>1</td>\n",
       "      <td>2</td>\n",
       "      <td>2</td>\n",
       "      <td>0</td>\n",
       "      <td>0</td>\n",
       "      <td>0</td>\n",
       "      <td>124839</td>\n",
       "      <td>11.561944</td>\n",
       "      <td>1.0</td>\n",
       "    </tr>\n",
       "    <tr>\n",
       "      <th>3</th>\n",
       "      <td>0095dfb6-a886-4e2a-b056-15ef45fdb0ef</td>\n",
       "      <td>0.0</td>\n",
       "      <td>0</td>\n",
       "      <td>NaN</td>\n",
       "      <td>NaN</td>\n",
       "      <td>NaN</td>\n",
       "      <td>NaN</td>\n",
       "      <td>NaN</td>\n",
       "      <td>NaN</td>\n",
       "      <td>NaN</td>\n",
       "      <td>...</td>\n",
       "      <td>1</td>\n",
       "      <td>1</td>\n",
       "      <td>1</td>\n",
       "      <td>1</td>\n",
       "      <td>0</td>\n",
       "      <td>0</td>\n",
       "      <td>0</td>\n",
       "      <td>324676</td>\n",
       "      <td>15.751111</td>\n",
       "      <td>1.0</td>\n",
       "    </tr>\n",
       "    <tr>\n",
       "      <th>4</th>\n",
       "      <td>c8f8b835-5647-4506-bf15-49105d8af30b</td>\n",
       "      <td>0.0</td>\n",
       "      <td>0</td>\n",
       "      <td>0.0</td>\n",
       "      <td>0.0</td>\n",
       "      <td>0.0</td>\n",
       "      <td>NaN</td>\n",
       "      <td>NaN</td>\n",
       "      <td>NaN</td>\n",
       "      <td>NaN</td>\n",
       "      <td>...</td>\n",
       "      <td>0</td>\n",
       "      <td>1</td>\n",
       "      <td>1</td>\n",
       "      <td>1</td>\n",
       "      <td>0</td>\n",
       "      <td>0</td>\n",
       "      <td>0</td>\n",
       "      <td>7100</td>\n",
       "      <td>12.698611</td>\n",
       "      <td>NaN</td>\n",
       "    </tr>\n",
       "  </tbody>\n",
       "</table>\n",
       "<p>5 rows × 43 columns</p>\n",
       "</div>"
      ],
      "text/plain": [
       "                                   uuid  default  account_amount_added_12_24m  \\\n",
       "0  63f69b2c-8b1c-4740-b78d-52ed9a4515ac      0.0                            0   \n",
       "1  0e961183-8c15-4470-9a5e-07a1bd207661      0.0                            0   \n",
       "2  d8edaae6-4368-44e0-941e-8328f203e64e      0.0                            0   \n",
       "3  0095dfb6-a886-4e2a-b056-15ef45fdb0ef      0.0                            0   \n",
       "4  c8f8b835-5647-4506-bf15-49105d8af30b      0.0                            0   \n",
       "\n",
       "   account_days_in_dc_12_24m  account_days_in_rem_12_24m  \\\n",
       "0                        0.0                         0.0   \n",
       "1                        0.0                         0.0   \n",
       "2                        0.0                         0.0   \n",
       "3                        NaN                         NaN   \n",
       "4                        0.0                         0.0   \n",
       "\n",
       "   account_days_in_term_12_24m  account_incoming_debt_vs_paid_0_24m  \\\n",
       "0                          0.0                                  0.0   \n",
       "1                          0.0                                  NaN   \n",
       "2                          0.0                                  NaN   \n",
       "3                          NaN                                  NaN   \n",
       "4                          0.0                                  NaN   \n",
       "\n",
       "   account_status  account_worst_status_0_3m  account_worst_status_12_24m  \\\n",
       "0             1.0                        1.0                          NaN   \n",
       "1             1.0                        1.0                          1.0   \n",
       "2             NaN                        NaN                          NaN   \n",
       "3             NaN                        NaN                          NaN   \n",
       "4             NaN                        NaN                          NaN   \n",
       "\n",
       "   ...  status_3rd_last_archived_0_24m  status_max_archived_0_6_months  \\\n",
       "0  ...                               1                               1   \n",
       "1  ...                               1                               1   \n",
       "2  ...                               1                               1   \n",
       "3  ...                               1                               1   \n",
       "4  ...                               0                               1   \n",
       "\n",
       "   status_max_archived_0_12_months  status_max_archived_0_24_months  \\\n",
       "0                                1                                1   \n",
       "1                                2                                2   \n",
       "2                                2                                2   \n",
       "3                                1                                1   \n",
       "4                                1                                1   \n",
       "\n",
       "   recovery_debt sum_capital_paid_account_0_12m  \\\n",
       "0              0                              0   \n",
       "1              0                              0   \n",
       "2              0                              0   \n",
       "3              0                              0   \n",
       "4              0                              0   \n",
       "\n",
       "  sum_capital_paid_account_12_24m  sum_paid_inv_0_12m  time_hours  \\\n",
       "0                               0              178839    9.653333   \n",
       "1                               0               49014   13.181389   \n",
       "2                               0              124839   11.561944   \n",
       "3                               0              324676   15.751111   \n",
       "4                               0                7100   12.698611   \n",
       "\n",
       "   worst_status_active_inv  \n",
       "0                      1.0  \n",
       "1                      NaN  \n",
       "2                      1.0  \n",
       "3                      1.0  \n",
       "4                      NaN  \n",
       "\n",
       "[5 rows x 43 columns]"
      ]
     },
     "execution_count": 428,
     "metadata": {},
     "output_type": "execute_result"
    }
   ],
   "source": [
    "# load data from S3 bucket\n",
    "data_key = 'dataset.csv'\n",
    "data_location = 's3://{}/{}'.format(bucket, data_key)\n",
    "\n",
    "df = pd.read_csv(data_location,delimiter=';')\n",
    "df.head(5)"
   ]
  },
  {
   "cell_type": "code",
   "execution_count": 429,
   "id": "8413cb79",
   "metadata": {},
   "outputs": [],
   "source": [
    "# save model in S3\n",
    "def upload_to_S3(pkl_filename,model):\n",
    "    with open(pkl_filename, 'wb') as file:\n",
    "        pickle.dump(model, file)\n",
    "    s3_resource = boto3.resource('s3')\n",
    "    pickle_byte_obj = pickle.dumps(model)\n",
    "    s3_resource.Object(bucket,pkl_filename).put(Body=pickle_byte_obj)"
   ]
  },
  {
   "cell_type": "markdown",
   "id": "c9889f1c",
   "metadata": {},
   "source": [
    "## Missing values imputation"
   ]
  },
  {
   "cell_type": "code",
   "execution_count": 430,
   "id": "4e94b690",
   "metadata": {},
   "outputs": [
    {
     "data": {
      "text/html": [
       "<div>\n",
       "<style scoped>\n",
       "    .dataframe tbody tr th:only-of-type {\n",
       "        vertical-align: middle;\n",
       "    }\n",
       "\n",
       "    .dataframe tbody tr th {\n",
       "        vertical-align: top;\n",
       "    }\n",
       "\n",
       "    .dataframe thead th {\n",
       "        text-align: right;\n",
       "    }\n",
       "</style>\n",
       "<table border=\"1\" class=\"dataframe\">\n",
       "  <thead>\n",
       "    <tr style=\"text-align: right;\">\n",
       "      <th></th>\n",
       "      <th>number of nan</th>\n",
       "    </tr>\n",
       "  </thead>\n",
       "  <tbody>\n",
       "    <tr>\n",
       "      <th>uuid</th>\n",
       "      <td>0</td>\n",
       "    </tr>\n",
       "    <tr>\n",
       "      <th>default</th>\n",
       "      <td>10000</td>\n",
       "    </tr>\n",
       "    <tr>\n",
       "      <th>account_amount_added_12_24m</th>\n",
       "      <td>0</td>\n",
       "    </tr>\n",
       "    <tr>\n",
       "      <th>account_days_in_dc_12_24m</th>\n",
       "      <td>11836</td>\n",
       "    </tr>\n",
       "    <tr>\n",
       "      <th>account_days_in_rem_12_24m</th>\n",
       "      <td>11836</td>\n",
       "    </tr>\n",
       "    <tr>\n",
       "      <th>account_days_in_term_12_24m</th>\n",
       "      <td>11836</td>\n",
       "    </tr>\n",
       "    <tr>\n",
       "      <th>account_incoming_debt_vs_paid_0_24m</th>\n",
       "      <td>59315</td>\n",
       "    </tr>\n",
       "    <tr>\n",
       "      <th>account_status</th>\n",
       "      <td>54373</td>\n",
       "    </tr>\n",
       "    <tr>\n",
       "      <th>account_worst_status_0_3m</th>\n",
       "      <td>54373</td>\n",
       "    </tr>\n",
       "    <tr>\n",
       "      <th>account_worst_status_12_24m</th>\n",
       "      <td>66761</td>\n",
       "    </tr>\n",
       "    <tr>\n",
       "      <th>account_worst_status_3_6m</th>\n",
       "      <td>57702</td>\n",
       "    </tr>\n",
       "    <tr>\n",
       "      <th>account_worst_status_6_12m</th>\n",
       "      <td>60350</td>\n",
       "    </tr>\n",
       "    <tr>\n",
       "      <th>age</th>\n",
       "      <td>0</td>\n",
       "    </tr>\n",
       "    <tr>\n",
       "      <th>avg_payment_span_0_12m</th>\n",
       "      <td>23836</td>\n",
       "    </tr>\n",
       "    <tr>\n",
       "      <th>avg_payment_span_0_3m</th>\n",
       "      <td>49305</td>\n",
       "    </tr>\n",
       "    <tr>\n",
       "      <th>merchant_category</th>\n",
       "      <td>0</td>\n",
       "    </tr>\n",
       "    <tr>\n",
       "      <th>merchant_group</th>\n",
       "      <td>0</td>\n",
       "    </tr>\n",
       "    <tr>\n",
       "      <th>has_paid</th>\n",
       "      <td>0</td>\n",
       "    </tr>\n",
       "    <tr>\n",
       "      <th>max_paid_inv_0_12m</th>\n",
       "      <td>0</td>\n",
       "    </tr>\n",
       "    <tr>\n",
       "      <th>max_paid_inv_0_24m</th>\n",
       "      <td>0</td>\n",
       "    </tr>\n",
       "    <tr>\n",
       "      <th>name_in_email</th>\n",
       "      <td>0</td>\n",
       "    </tr>\n",
       "    <tr>\n",
       "      <th>num_active_div_by_paid_inv_0_12m</th>\n",
       "      <td>22939</td>\n",
       "    </tr>\n",
       "    <tr>\n",
       "      <th>num_active_inv</th>\n",
       "      <td>0</td>\n",
       "    </tr>\n",
       "    <tr>\n",
       "      <th>num_arch_dc_0_12m</th>\n",
       "      <td>0</td>\n",
       "    </tr>\n",
       "    <tr>\n",
       "      <th>num_arch_dc_12_24m</th>\n",
       "      <td>0</td>\n",
       "    </tr>\n",
       "    <tr>\n",
       "      <th>num_arch_ok_0_12m</th>\n",
       "      <td>0</td>\n",
       "    </tr>\n",
       "    <tr>\n",
       "      <th>num_arch_ok_12_24m</th>\n",
       "      <td>0</td>\n",
       "    </tr>\n",
       "    <tr>\n",
       "      <th>num_arch_rem_0_12m</th>\n",
       "      <td>0</td>\n",
       "    </tr>\n",
       "    <tr>\n",
       "      <th>num_arch_written_off_0_12m</th>\n",
       "      <td>18078</td>\n",
       "    </tr>\n",
       "    <tr>\n",
       "      <th>num_arch_written_off_12_24m</th>\n",
       "      <td>18078</td>\n",
       "    </tr>\n",
       "    <tr>\n",
       "      <th>num_unpaid_bills</th>\n",
       "      <td>0</td>\n",
       "    </tr>\n",
       "    <tr>\n",
       "      <th>status_last_archived_0_24m</th>\n",
       "      <td>0</td>\n",
       "    </tr>\n",
       "    <tr>\n",
       "      <th>status_2nd_last_archived_0_24m</th>\n",
       "      <td>0</td>\n",
       "    </tr>\n",
       "    <tr>\n",
       "      <th>status_3rd_last_archived_0_24m</th>\n",
       "      <td>0</td>\n",
       "    </tr>\n",
       "    <tr>\n",
       "      <th>status_max_archived_0_6_months</th>\n",
       "      <td>0</td>\n",
       "    </tr>\n",
       "    <tr>\n",
       "      <th>status_max_archived_0_12_months</th>\n",
       "      <td>0</td>\n",
       "    </tr>\n",
       "    <tr>\n",
       "      <th>status_max_archived_0_24_months</th>\n",
       "      <td>0</td>\n",
       "    </tr>\n",
       "    <tr>\n",
       "      <th>recovery_debt</th>\n",
       "      <td>0</td>\n",
       "    </tr>\n",
       "    <tr>\n",
       "      <th>sum_capital_paid_account_0_12m</th>\n",
       "      <td>0</td>\n",
       "    </tr>\n",
       "    <tr>\n",
       "      <th>sum_capital_paid_account_12_24m</th>\n",
       "      <td>0</td>\n",
       "    </tr>\n",
       "    <tr>\n",
       "      <th>sum_paid_inv_0_12m</th>\n",
       "      <td>0</td>\n",
       "    </tr>\n",
       "    <tr>\n",
       "      <th>time_hours</th>\n",
       "      <td>0</td>\n",
       "    </tr>\n",
       "    <tr>\n",
       "      <th>worst_status_active_inv</th>\n",
       "      <td>69515</td>\n",
       "    </tr>\n",
       "  </tbody>\n",
       "</table>\n",
       "</div>"
      ],
      "text/plain": [
       "                                     number of nan\n",
       "uuid                                             0\n",
       "default                                      10000\n",
       "account_amount_added_12_24m                      0\n",
       "account_days_in_dc_12_24m                    11836\n",
       "account_days_in_rem_12_24m                   11836\n",
       "account_days_in_term_12_24m                  11836\n",
       "account_incoming_debt_vs_paid_0_24m          59315\n",
       "account_status                               54373\n",
       "account_worst_status_0_3m                    54373\n",
       "account_worst_status_12_24m                  66761\n",
       "account_worst_status_3_6m                    57702\n",
       "account_worst_status_6_12m                   60350\n",
       "age                                              0\n",
       "avg_payment_span_0_12m                       23836\n",
       "avg_payment_span_0_3m                        49305\n",
       "merchant_category                                0\n",
       "merchant_group                                   0\n",
       "has_paid                                         0\n",
       "max_paid_inv_0_12m                               0\n",
       "max_paid_inv_0_24m                               0\n",
       "name_in_email                                    0\n",
       "num_active_div_by_paid_inv_0_12m             22939\n",
       "num_active_inv                                   0\n",
       "num_arch_dc_0_12m                                0\n",
       "num_arch_dc_12_24m                               0\n",
       "num_arch_ok_0_12m                                0\n",
       "num_arch_ok_12_24m                               0\n",
       "num_arch_rem_0_12m                               0\n",
       "num_arch_written_off_0_12m                   18078\n",
       "num_arch_written_off_12_24m                  18078\n",
       "num_unpaid_bills                                 0\n",
       "status_last_archived_0_24m                       0\n",
       "status_2nd_last_archived_0_24m                   0\n",
       "status_3rd_last_archived_0_24m                   0\n",
       "status_max_archived_0_6_months                   0\n",
       "status_max_archived_0_12_months                  0\n",
       "status_max_archived_0_24_months                  0\n",
       "recovery_debt                                    0\n",
       "sum_capital_paid_account_0_12m                   0\n",
       "sum_capital_paid_account_12_24m                  0\n",
       "sum_paid_inv_0_12m                               0\n",
       "time_hours                                       0\n",
       "worst_status_active_inv                      69515"
      ]
     },
     "execution_count": 430,
     "metadata": {},
     "output_type": "execute_result"
    }
   ],
   "source": [
    "pd.DataFrame(df.isnull().sum(),columns=['number of nan'])"
   ]
  },
  {
   "cell_type": "markdown",
   "id": "3936ec3a",
   "metadata": {},
   "source": [
    "## Drop columns"
   ]
  },
  {
   "cell_type": "markdown",
   "id": "16574524",
   "metadata": {},
   "source": [
    "#### As analyzed in notebook (0), filling-in the nan for some of the variables would introduce more bias than the actual benefit of imputing new values. Therefore, they are dropped off."
   ]
  },
  {
   "cell_type": "code",
   "execution_count": 431,
   "id": "90a9dbac",
   "metadata": {},
   "outputs": [],
   "source": [
    "df.drop(columns=['num_arch_written_off_0_12m',\n",
    "                 'num_arch_written_off_12_24m',\n",
    "                 'account_incoming_debt_vs_paid_0_24m',\n",
    "                 'merchant_category'],inplace=True)"
   ]
  },
  {
   "cell_type": "markdown",
   "id": "ee2779c5",
   "metadata": {},
   "source": [
    "## Split train and test set to avoid data leakeage during nan imputation"
   ]
  },
  {
   "cell_type": "code",
   "execution_count": 432,
   "id": "3bc22031",
   "metadata": {},
   "outputs": [
    {
     "name": "stdout",
     "output_type": "stream",
     "text": [
      "train set rows: 89976\n",
      "test set rows: 10000\n"
     ]
    }
   ],
   "source": [
    "df_train = df[df['default'].notnull()]\n",
    "X_train,y_train = df_train.drop('default', axis=1),df_train['default']\n",
    "print(f'train set rows: {df_train.shape[0]}')\n",
    "\n",
    "df_test = df[df['default'].isnull()]\n",
    "X_test,y_test = df_test.drop('default', axis=1),df_test['default']\n",
    "print(f'test set rows: {df_test.shape[0]}')\n"
   ]
  },
  {
   "cell_type": "code",
   "execution_count": 433,
   "id": "b556e786",
   "metadata": {},
   "outputs": [],
   "source": [
    "datasets = [df,X_train,X_test]"
   ]
  },
  {
   "cell_type": "markdown",
   "id": "8b75ac84",
   "metadata": {},
   "source": [
    "# nan imputation"
   ]
  },
  {
   "cell_type": "markdown",
   "id": "51f513f2",
   "metadata": {},
   "source": [
    "## 0) account_days_in_dc_12_24m & account_days_in_rem_12_24m & account_days_in_term_12_24m"
   ]
  },
  {
   "cell_type": "code",
   "execution_count": 434,
   "id": "30419eb4",
   "metadata": {},
   "outputs": [
    {
     "name": "stdout",
     "output_type": "stream",
     "text": [
      "missing values\n"
     ]
    },
    {
     "data": {
      "text/html": [
       "<div>\n",
       "<style scoped>\n",
       "    .dataframe tbody tr th:only-of-type {\n",
       "        vertical-align: middle;\n",
       "    }\n",
       "\n",
       "    .dataframe tbody tr th {\n",
       "        vertical-align: top;\n",
       "    }\n",
       "\n",
       "    .dataframe thead th {\n",
       "        text-align: right;\n",
       "    }\n",
       "</style>\n",
       "<table border=\"1\" class=\"dataframe\">\n",
       "  <thead>\n",
       "    <tr style=\"text-align: right;\">\n",
       "      <th></th>\n",
       "      <th>missing values</th>\n",
       "    </tr>\n",
       "  </thead>\n",
       "  <tbody>\n",
       "    <tr>\n",
       "      <th>account_days_in_dc_12_24m</th>\n",
       "      <td>11836</td>\n",
       "    </tr>\n",
       "    <tr>\n",
       "      <th>account_days_in_rem_12_24m</th>\n",
       "      <td>11836</td>\n",
       "    </tr>\n",
       "    <tr>\n",
       "      <th>account_days_in_term_12_24m</th>\n",
       "      <td>11836</td>\n",
       "    </tr>\n",
       "  </tbody>\n",
       "</table>\n",
       "</div>"
      ],
      "text/plain": [
       "                             missing values\n",
       "account_days_in_dc_12_24m             11836\n",
       "account_days_in_rem_12_24m            11836\n",
       "account_days_in_term_12_24m           11836"
      ]
     },
     "execution_count": 434,
     "metadata": {},
     "output_type": "execute_result"
    }
   ],
   "source": [
    "print('missing values')\n",
    "pd.DataFrame(df[['account_days_in_dc_12_24m',\n",
    "                 'account_days_in_rem_12_24m',\n",
    "                 'account_days_in_term_12_24m']].isnull().sum(), columns=['missing values'])"
   ]
  },
  {
   "cell_type": "code",
   "execution_count": 435,
   "id": "b9ff2e4d",
   "metadata": {},
   "outputs": [
    {
     "name": "stdout",
     "output_type": "stream",
     "text": [
      "Percentage of zeros in account_days_in_term_12_24m: 98.63 %\n",
      "Percentage of zeros in account_days_in_dc_12_24m: 99.7 %\n",
      "Percentage of zeros in account_days_in_rem_12_24m: 89.09 %\n"
     ]
    }
   ],
   "source": [
    "for feature in ['account_days_in_term_12_24m',\n",
    "       'account_days_in_dc_12_24m', 'account_days_in_rem_12_24m']:\n",
    "    print(f'Percentage of zeros in {feature}: {round((df[feature].value_counts() / df[feature].count() ) * 100,2)[0]} %')"
   ]
  },
  {
   "cell_type": "markdown",
   "id": "a0ccf0ce",
   "metadata": {},
   "source": [
    "#### Strategy for \"account_days_in_term_12_24m\" & \"account_days_in_dc_12_24m\":\n",
    "#### Fill nan with the most frequent observation (zero):"
   ]
  },
  {
   "cell_type": "code",
   "execution_count": 436,
   "id": "f6d4ab37",
   "metadata": {},
   "outputs": [],
   "source": [
    "for dataset in datasets:\n",
    "    dataset['account_days_in_dc_12_24m'].fillna(value=0,inplace=True)\n",
    "    dataset['account_days_in_term_12_24m'].fillna(value=0,inplace=True)"
   ]
  },
  {
   "cell_type": "markdown",
   "id": "4bfdff0c",
   "metadata": {},
   "source": [
    "#### account_days_in_rem_12_24m"
   ]
  },
  {
   "cell_type": "code",
   "execution_count": 437,
   "id": "aeaa8ebd",
   "metadata": {},
   "outputs": [],
   "source": [
    "# account_worst_status_12_24m & account_worst_status_12_24m without nan\n",
    "no_nan = df.loc[df.loc[df['account_worst_status_12_24m'].dropna().index]['account_days_in_rem_12_24m'].dropna().index]"
   ]
  },
  {
   "cell_type": "code",
   "execution_count": 438,
   "id": "80d557b8",
   "metadata": {},
   "outputs": [
    {
     "name": "stdout",
     "output_type": "stream",
     "text": [
      "account_worst_status = 1 (the majority) have 0 account_days_in_rem. The worst_status increases with account_days_in_rem. We will use that to fill missing values.\n"
     ]
    },
    {
     "data": {
      "text/plain": [
       "<AxesSubplot:xlabel='account_worst_status_12_24m', ylabel='account_days_in_rem_12_24m'>"
      ]
     },
     "execution_count": 438,
     "metadata": {},
     "output_type": "execute_result"
    },
    {
     "data": {
      "image/png": "[encoded data removed]",
      "text/plain": [
       "<Figure size 576x396 with 1 Axes>"
      ]
     },
     "metadata": {
      "image/png": {
       "height": 346,
       "width": 501
      }
     },
     "output_type": "display_data"
    }
   ],
   "source": [
    "print('account_worst_status = 1 (the majority) have 0 account_days_in_rem. The worst_status increases with account_days_in_rem. We will use that to fill missing values.')\n",
    "sns.violinplot(x='account_worst_status_12_24m',y='account_days_in_rem_12_24m',data=no_nan)"
   ]
  },
  {
   "cell_type": "code",
   "execution_count": 439,
   "id": "218f2e24",
   "metadata": {},
   "outputs": [
    {
     "data": {
      "text/plain": [
       "[0.0, 23.0, 73.0, 62.0]"
      ]
     },
     "execution_count": 439,
     "metadata": {},
     "output_type": "execute_result"
    }
   ],
   "source": [
    "# We extract the median for each group plotted above\n",
    "medians = []\n",
    "for account_worst_status in X_train['account_worst_status_12_24m'].dropna().unique():\n",
    "    medians.append(X_train[X_train['account_worst_status_12_24m'] == account_worst_status]['account_days_in_rem_12_24m'].median())\n",
    "medians"
   ]
  },
  {
   "cell_type": "code",
   "execution_count": 440,
   "id": "7da37af4",
   "metadata": {},
   "outputs": [],
   "source": [
    "def inputer_account_days_in_rem_12_24m(x,medians): # imputing using its correlation with account_worst_status_12_24m\n",
    "    a = 0\n",
    "    if pd.isnull(x['account_days_in_rem_12_24m']):\n",
    "        if x['account_worst_status_12_24m'] == 1:\n",
    "            a = medians[0]\n",
    "        elif x['account_worst_status_12_24m'] == 2:\n",
    "            a = medians[1]\n",
    "        elif x['account_worst_status_12_24m'] in [3,4]:\n",
    "            a = (medians[2] + medians[3]) / 2\n",
    "    else:\n",
    "        a = x['account_days_in_rem_12_24m']\n",
    "    return a"
   ]
  },
  {
   "cell_type": "code",
   "execution_count": 441,
   "id": "55af8978",
   "metadata": {},
   "outputs": [],
   "source": [
    "for dataset in datasets:\n",
    "    dataset['account_days_in_rem_12_24m'] = dataset.apply(lambda x: inputer_account_days_in_rem_12_24m(x,medians),axis=1)"
   ]
  },
  {
   "cell_type": "markdown",
   "id": "cb90ad11",
   "metadata": {},
   "source": [
    "## 1) avg_payment_span_0_12m & avg_payment_span_0_3m"
   ]
  },
  {
   "cell_type": "code",
   "execution_count": 442,
   "id": "27c851fc",
   "metadata": {},
   "outputs": [
    {
     "data": {
      "text/html": [
       "<div>\n",
       "<style scoped>\n",
       "    .dataframe tbody tr th:only-of-type {\n",
       "        vertical-align: middle;\n",
       "    }\n",
       "\n",
       "    .dataframe tbody tr th {\n",
       "        vertical-align: top;\n",
       "    }\n",
       "\n",
       "    .dataframe thead th {\n",
       "        text-align: right;\n",
       "    }\n",
       "</style>\n",
       "<table border=\"1\" class=\"dataframe\">\n",
       "  <thead>\n",
       "    <tr style=\"text-align: right;\">\n",
       "      <th></th>\n",
       "      <th>missing values</th>\n",
       "    </tr>\n",
       "  </thead>\n",
       "  <tbody>\n",
       "    <tr>\n",
       "      <th>avg_payment_span_0_12m</th>\n",
       "      <td>23836</td>\n",
       "    </tr>\n",
       "    <tr>\n",
       "      <th>avg_payment_span_0_3m</th>\n",
       "      <td>49305</td>\n",
       "    </tr>\n",
       "  </tbody>\n",
       "</table>\n",
       "</div>"
      ],
      "text/plain": [
       "                        missing values\n",
       "avg_payment_span_0_12m           23836\n",
       "avg_payment_span_0_3m            49305"
      ]
     },
     "execution_count": 442,
     "metadata": {},
     "output_type": "execute_result"
    }
   ],
   "source": [
    "pd.DataFrame(df[[\"avg_payment_span_0_12m\", \"avg_payment_span_0_3m\"]].isnull().sum(),columns=['missing values'])"
   ]
  },
  {
   "cell_type": "code",
   "execution_count": 443,
   "id": "7174ae63",
   "metadata": {},
   "outputs": [
    {
     "name": "stdout",
     "output_type": "stream",
     "text": [
      "highly correlated variables:\n"
     ]
    },
    {
     "data": {
      "text/plain": [
       "avg_payment_span_0_12m             1.000000\n",
       "avg_payment_span_0_3m              0.741739\n",
       "status_last_archived_0_24m         0.669296\n",
       "status_max_archived_0_12_months    0.658633\n",
       "status_max_archived_0_24_months    0.582940\n",
       "num_arch_dc_0_12m                  0.453490\n",
       "status_2nd_last_archived_0_24m     0.389179\n",
       "num_arch_rem_0_12m                 0.340123\n",
       "Name: avg_payment_span_0_12m, dtype: float64"
      ]
     },
     "execution_count": 443,
     "metadata": {},
     "output_type": "execute_result"
    }
   ],
   "source": [
    "print('highly correlated variables:')\n",
    "df.loc[df['avg_payment_span_0_12m'].dropna().index].corr()['avg_payment_span_0_12m'].sort_values(ascending=False).head(8)"
   ]
  },
  {
   "cell_type": "markdown",
   "id": "4a64de2a",
   "metadata": {},
   "source": [
    "#### Since there are many highly correlated variables. A simple linear regression model is used to fill in the nan of avg_payment_span_0_12m"
   ]
  },
  {
   "cell_type": "code",
   "execution_count": 444,
   "id": "f101cb60",
   "metadata": {},
   "outputs": [],
   "source": [
    "from sklearn.linear_model import LinearRegression\n",
    "from sklearn.model_selection import train_test_split\n",
    "from sklearn.metrics import mean_absolute_error"
   ]
  },
  {
   "cell_type": "code",
   "execution_count": 445,
   "id": "60207cf5",
   "metadata": {},
   "outputs": [],
   "source": [
    "avg_payment_12_without_nan = X_train.loc[X_train['avg_payment_span_0_12m'].dropna().index][['avg_payment_span_0_12m',\n",
    "                                                     'status_last_archived_0_24m',\n",
    "                                                     'status_max_archived_0_12_months',               \n",
    "                                                     'status_max_archived_0_24_months',\n",
    "                                                     'num_arch_rem_0_12m']]"
   ]
  },
  {
   "cell_type": "code",
   "execution_count": 446,
   "id": "9ffd152e",
   "metadata": {},
   "outputs": [
    {
     "name": "stdout",
     "output_type": "stream",
     "text": [
      "since the distributions and range of the independent variables are similar we skip the normalization\n"
     ]
    },
    {
     "data": {
      "text/html": [
       "<div>\n",
       "<style scoped>\n",
       "    .dataframe tbody tr th:only-of-type {\n",
       "        vertical-align: middle;\n",
       "    }\n",
       "\n",
       "    .dataframe tbody tr th {\n",
       "        vertical-align: top;\n",
       "    }\n",
       "\n",
       "    .dataframe thead th {\n",
       "        text-align: right;\n",
       "    }\n",
       "</style>\n",
       "<table border=\"1\" class=\"dataframe\">\n",
       "  <thead>\n",
       "    <tr style=\"text-align: right;\">\n",
       "      <th></th>\n",
       "      <th>avg_payment_span_0_12m</th>\n",
       "      <th>status_last_archived_0_24m</th>\n",
       "      <th>status_max_archived_0_12_months</th>\n",
       "      <th>status_max_archived_0_24_months</th>\n",
       "      <th>num_arch_rem_0_12m</th>\n",
       "    </tr>\n",
       "  </thead>\n",
       "  <tbody>\n",
       "    <tr>\n",
       "      <th>count</th>\n",
       "      <td>68508.000000</td>\n",
       "      <td>68508.000000</td>\n",
       "      <td>68508.000000</td>\n",
       "      <td>68508.000000</td>\n",
       "      <td>68508.000000</td>\n",
       "    </tr>\n",
       "    <tr>\n",
       "      <th>mean</th>\n",
       "      <td>17.977933</td>\n",
       "      <td>1.123825</td>\n",
       "      <td>1.379853</td>\n",
       "      <td>1.515356</td>\n",
       "      <td>0.613607</td>\n",
       "    </tr>\n",
       "    <tr>\n",
       "      <th>std</th>\n",
       "      <td>12.804216</td>\n",
       "      <td>0.383826</td>\n",
       "      <td>0.597850</td>\n",
       "      <td>0.658419</td>\n",
       "      <td>1.519396</td>\n",
       "    </tr>\n",
       "    <tr>\n",
       "      <th>min</th>\n",
       "      <td>0.000000</td>\n",
       "      <td>0.000000</td>\n",
       "      <td>0.000000</td>\n",
       "      <td>0.000000</td>\n",
       "      <td>0.000000</td>\n",
       "    </tr>\n",
       "    <tr>\n",
       "      <th>25%</th>\n",
       "      <td>10.800000</td>\n",
       "      <td>1.000000</td>\n",
       "      <td>1.000000</td>\n",
       "      <td>1.000000</td>\n",
       "      <td>0.000000</td>\n",
       "    </tr>\n",
       "    <tr>\n",
       "      <th>50%</th>\n",
       "      <td>14.904762</td>\n",
       "      <td>1.000000</td>\n",
       "      <td>1.000000</td>\n",
       "      <td>1.000000</td>\n",
       "      <td>0.000000</td>\n",
       "    </tr>\n",
       "    <tr>\n",
       "      <th>75%</th>\n",
       "      <td>21.040124</td>\n",
       "      <td>1.000000</td>\n",
       "      <td>2.000000</td>\n",
       "      <td>2.000000</td>\n",
       "      <td>1.000000</td>\n",
       "    </tr>\n",
       "    <tr>\n",
       "      <th>max</th>\n",
       "      <td>260.000000</td>\n",
       "      <td>5.000000</td>\n",
       "      <td>5.000000</td>\n",
       "      <td>5.000000</td>\n",
       "      <td>42.000000</td>\n",
       "    </tr>\n",
       "  </tbody>\n",
       "</table>\n",
       "</div>"
      ],
      "text/plain": [
       "       avg_payment_span_0_12m  status_last_archived_0_24m  \\\n",
       "count            68508.000000                68508.000000   \n",
       "mean                17.977933                    1.123825   \n",
       "std                 12.804216                    0.383826   \n",
       "min                  0.000000                    0.000000   \n",
       "25%                 10.800000                    1.000000   \n",
       "50%                 14.904762                    1.000000   \n",
       "75%                 21.040124                    1.000000   \n",
       "max                260.000000                    5.000000   \n",
       "\n",
       "       status_max_archived_0_12_months  status_max_archived_0_24_months  \\\n",
       "count                     68508.000000                     68508.000000   \n",
       "mean                          1.379853                         1.515356   \n",
       "std                           0.597850                         0.658419   \n",
       "min                           0.000000                         0.000000   \n",
       "25%                           1.000000                         1.000000   \n",
       "50%                           1.000000                         1.000000   \n",
       "75%                           2.000000                         2.000000   \n",
       "max                           5.000000                         5.000000   \n",
       "\n",
       "       num_arch_rem_0_12m  \n",
       "count        68508.000000  \n",
       "mean             0.613607  \n",
       "std              1.519396  \n",
       "min              0.000000  \n",
       "25%              0.000000  \n",
       "50%              0.000000  \n",
       "75%              1.000000  \n",
       "max             42.000000  "
      ]
     },
     "execution_count": 446,
     "metadata": {},
     "output_type": "execute_result"
    }
   ],
   "source": [
    "print('since the distributions and range of the independent variables are similar we skip the normalization') \n",
    "avg_payment_12_without_nan.describe() "
   ]
  },
  {
   "cell_type": "code",
   "execution_count": 447,
   "id": "d4741aad",
   "metadata": {},
   "outputs": [],
   "source": [
    "# train / val split\n",
    "X_train_span_0_12m, X_val_span_0_12m, y_train_span_0_12m, y_val_span_0_12m = train_test_split(avg_payment_12_without_nan[[\n",
    "                                                                                                         'status_last_archived_0_24m',\n",
    "                                                                                                         'status_max_archived_0_12_months',\n",
    "                                                                                                         'status_max_archived_0_24_months',\n",
    "                                                                                                         'num_arch_rem_0_12m']],\n",
    "                                                                                                avg_payment_12_without_nan['avg_payment_span_0_12m'], \n",
    "                                                                                                test_size=0.2, \n",
    "                                                                                                random_state=42)"
   ]
  },
  {
   "cell_type": "code",
   "execution_count": 448,
   "id": "cf4036d3",
   "metadata": {},
   "outputs": [],
   "source": [
    "lr_avg_payment = LinearRegression()"
   ]
  },
  {
   "cell_type": "code",
   "execution_count": 449,
   "id": "be5eca95",
   "metadata": {},
   "outputs": [
    {
     "data": {
      "text/plain": [
       "LinearRegression()"
      ]
     },
     "execution_count": 449,
     "metadata": {},
     "output_type": "execute_result"
    }
   ],
   "source": [
    "# Train the linear regression\n",
    "lr_avg_payment.fit(X_train_span_0_12m,y_train_span_0_12m)"
   ]
  },
  {
   "cell_type": "code",
   "execution_count": 450,
   "id": "2c4f677f",
   "metadata": {},
   "outputs": [],
   "source": [
    "# save model in S3\n",
    "pkl_filename = 'lr_avg_payment.pkl'\n",
    "upload_to_S3(pkl_filename,lr_avg_payment)"
   ]
  },
  {
   "cell_type": "code",
   "execution_count": 451,
   "id": "7b4b711f",
   "metadata": {},
   "outputs": [
    {
     "name": "stdout",
     "output_type": "stream",
     "text": [
      "mae train error = 5.573087769333173, mae test error = 5.573871674631771\n"
     ]
    }
   ],
   "source": [
    "train_error_mae = mean_absolute_error(y_train_span_0_12m,lr_avg_payment.predict(X_train_span_0_12m))\n",
    "test_error_mae = mean_absolute_error(y_val_span_0_12m,lr_avg_payment.predict(X_val_span_0_12m))\n",
    "print(f'mae train error = {train_error_mae}, mae test error = {test_error_mae}')"
   ]
  },
  {
   "cell_type": "code",
   "execution_count": 452,
   "id": "1cd7839a",
   "metadata": {},
   "outputs": [],
   "source": [
    "def inputer_avg_payment_span_0_12m(x):   # imputing values using the linear model fitted on the training set\n",
    "    a = 0\n",
    "    if pd.isnull(x['avg_payment_span_0_12m']):\n",
    "        a = lr_avg_payment.predict(np.array(x[['status_last_archived_0_24m',\n",
    "                            'status_max_archived_0_12_months',\n",
    "                            'status_max_archived_0_24_months',\n",
    "                            'num_arch_rem_0_12m']]).reshape(1,4))[0]\n",
    "        a = np.clip(a,0,None)\n",
    "    else:\n",
    "        a = x['avg_payment_span_0_12m']\n",
    "    return a"
   ]
  },
  {
   "cell_type": "code",
   "execution_count": 453,
   "id": "b5950d13",
   "metadata": {},
   "outputs": [],
   "source": [
    "for dataset in datasets:\n",
    "    dataset['avg_payment_span_0_12m'] = dataset.apply(lambda x: inputer_avg_payment_span_0_12m(x),axis=1)"
   ]
  },
  {
   "cell_type": "code",
   "execution_count": 454,
   "id": "8618d077",
   "metadata": {},
   "outputs": [
    {
     "name": "stdout",
     "output_type": "stream",
     "text": [
      "There is a linear relationship between 'avg_payment_span_0_12m' & 'avg_payment_span_0_3m' with a mean absolute error of 4.21 and it intercepts around zero. As seen from the plot below, the slope of the linear fitting is about 120/100. The missing values in 'avg_payment_span_0_3m', are filled up using this correlation\n"
     ]
    },
    {
     "name": "stderr",
     "output_type": "stream",
     "text": [
      "/home/ec2-user/anaconda3/envs/python3/lib/python3.6/site-packages/seaborn/_decorators.py:43: FutureWarning: Pass the following variables as keyword args: x, y, data. From version 0.12, the only valid positional argument will be `data`, and passing other arguments without an explicit keyword will result in an error or misinterpretation.\n",
      "  FutureWarning\n"
     ]
    },
    {
     "data": {
      "text/plain": [
       "<AxesSubplot:xlabel='avg_payment_span_0_12m', ylabel='avg_payment_span_0_3m'>"
      ]
     },
     "execution_count": 454,
     "metadata": {},
     "output_type": "execute_result"
    },
    {
     "data": {
      "image/png": "[encoded data removed]",
      "text/plain": [
       "<Figure size 576x396 with 1 Axes>"
      ]
     },
     "metadata": {
      "image/png": {
       "height": 344,
       "width": 502
      }
     },
     "output_type": "display_data"
    }
   ],
   "source": [
    "avg_payment_without_nan = df[['avg_payment_span_0_12m','avg_payment_span_0_3m']].dropna()\n",
    "mae = mean_absolute_error(avg_payment_without_nan['avg_payment_span_0_12m'],avg_payment_without_nan\n",
    "                    ['avg_payment_span_0_3m'])\n",
    "\n",
    "print(f\"There is a linear relationship between 'avg_payment_span_0_12m' & 'avg_payment_span_0_3m' with a mean absolute error of {round(mae,2)} and it intercepts around zero. As seen from the plot below, the slope of the linear fitting is about 120/100. The missing values in 'avg_payment_span_0_3m', are filled up using this correlation\")\n",
    "sns.regplot('avg_payment_span_0_12m','avg_payment_span_0_3m',df,scatter_kws={\"color\": \"black\"}, line_kws={\"color\": \"red\"})"
   ]
  },
  {
   "cell_type": "code",
   "execution_count": 455,
   "id": "66e42a0b",
   "metadata": {},
   "outputs": [],
   "source": [
    "slope = 120/100"
   ]
  },
  {
   "cell_type": "code",
   "execution_count": 456,
   "id": "b28ce141",
   "metadata": {},
   "outputs": [],
   "source": [
    "for dataset in datasets:\n",
    "    dataset['avg_payment_span_0_3m'] = dataset.apply(lambda x: (slope * x['avg_payment_span_0_12m']) if pd.isnull(x['avg_payment_span_0_3m']) \n",
    "         else x['avg_payment_span_0_3m'],axis=1)"
   ]
  },
  {
   "cell_type": "markdown",
   "id": "9d80717e",
   "metadata": {},
   "source": [
    "## 2) worst status active inv"
   ]
  },
  {
   "cell_type": "code",
   "execution_count": 457,
   "id": "ea52a010",
   "metadata": {},
   "outputs": [
    {
     "name": "stdout",
     "output_type": "stream",
     "text": [
      "missing values= 69515\n"
     ]
    }
   ],
   "source": [
    "missing_values = df['worst_status_active_inv'].isnull().sum()\n",
    "print(f'missing values= {missing_values}')"
   ]
  },
  {
   "cell_type": "code",
   "execution_count": 458,
   "id": "04b48bb2",
   "metadata": {},
   "outputs": [
    {
     "data": {
      "text/plain": [
       "1.0    26922\n",
       "2.0     3369\n",
       "3.0      170\n",
       "Name: worst_status_active_inv, dtype: int64"
      ]
     },
     "execution_count": 458,
     "metadata": {},
     "output_type": "execute_result"
    }
   ],
   "source": [
    "df['worst_status_active_inv'].dropna().value_counts()"
   ]
  },
  {
   "cell_type": "code",
   "execution_count": 459,
   "id": "197119dc",
   "metadata": {},
   "outputs": [
    {
     "name": "stdout",
     "output_type": "stream",
     "text": [
      "As seen in the visualization notebook. Some features correlate linearly with worst_status_active_inv\n"
     ]
    },
    {
     "data": {
      "text/plain": [
       "worst_status_active_inv    1.000000\n",
       "recovery_debt              0.291179\n",
       "avg_payment_span_0_12m     0.248673\n",
       "avg_payment_span_0_3m      0.243617\n",
       "num_arch_rem_0_12m         0.241682\n",
       "Name: worst_status_active_inv, dtype: float64"
      ]
     },
     "execution_count": 459,
     "metadata": {},
     "output_type": "execute_result"
    }
   ],
   "source": [
    "print('As seen in the visualization notebook. Some features correlate linearly with worst_status_active_inv')\n",
    "worst_status_active_inv_without_nan = df.loc[df['worst_status_active_inv'].dropna().index]\n",
    "worst_status_active_inv_without_nan.corr()['worst_status_active_inv'].sort_values(ascending=False).head(5)"
   ]
  },
  {
   "cell_type": "code",
   "execution_count": 460,
   "id": "d146532f",
   "metadata": {},
   "outputs": [
    {
     "data": {
      "text/html": [
       "<div>\n",
       "<style scoped>\n",
       "    .dataframe tbody tr th:only-of-type {\n",
       "        vertical-align: middle;\n",
       "    }\n",
       "\n",
       "    .dataframe tbody tr th {\n",
       "        vertical-align: top;\n",
       "    }\n",
       "\n",
       "    .dataframe thead th {\n",
       "        text-align: right;\n",
       "    }\n",
       "</style>\n",
       "<table border=\"1\" class=\"dataframe\">\n",
       "  <thead>\n",
       "    <tr style=\"text-align: right;\">\n",
       "      <th></th>\n",
       "      <th>recovery_debt</th>\n",
       "      <th>avg_payment_span_0_12m</th>\n",
       "      <th>avg_payment_span_0_3m</th>\n",
       "      <th>num_arch_rem_0_12m</th>\n",
       "      <th>worst_status_active_inv</th>\n",
       "    </tr>\n",
       "  </thead>\n",
       "  <tbody>\n",
       "    <tr>\n",
       "      <th>0</th>\n",
       "      <td>0</td>\n",
       "      <td>12.692308</td>\n",
       "      <td>8.333333</td>\n",
       "      <td>0</td>\n",
       "      <td>1.0</td>\n",
       "    </tr>\n",
       "    <tr>\n",
       "      <th>2</th>\n",
       "      <td>0</td>\n",
       "      <td>20.000000</td>\n",
       "      <td>18.000000</td>\n",
       "      <td>3</td>\n",
       "      <td>1.0</td>\n",
       "    </tr>\n",
       "    <tr>\n",
       "      <th>3</th>\n",
       "      <td>0</td>\n",
       "      <td>4.687500</td>\n",
       "      <td>4.888889</td>\n",
       "      <td>0</td>\n",
       "      <td>1.0</td>\n",
       "    </tr>\n",
       "  </tbody>\n",
       "</table>\n",
       "</div>"
      ],
      "text/plain": [
       "   recovery_debt  avg_payment_span_0_12m  avg_payment_span_0_3m  \\\n",
       "0              0               12.692308               8.333333   \n",
       "2              0               20.000000              18.000000   \n",
       "3              0                4.687500               4.888889   \n",
       "\n",
       "   num_arch_rem_0_12m  worst_status_active_inv  \n",
       "0                   0                      1.0  \n",
       "2                   3                      1.0  \n",
       "3                   0                      1.0  "
      ]
     },
     "execution_count": 460,
     "metadata": {},
     "output_type": "execute_result"
    }
   ],
   "source": [
    "X_train_without_worst_status_nan = X_train.loc[X_train['worst_status_active_inv'].dropna().index]\n",
    "X_train_without_worst_status_nan[['recovery_debt',\n",
    "                                  'avg_payment_span_0_12m',\n",
    "                                  'avg_payment_span_0_3m',\n",
    "                                  'num_arch_rem_0_12m',\n",
    "                                  'worst_status_active_inv']].head(3)"
   ]
  },
  {
   "cell_type": "code",
   "execution_count": 461,
   "id": "e999237c",
   "metadata": {},
   "outputs": [],
   "source": [
    "# train / val split\n",
    "X_train_worst_status, X_val_worst_status, y_train_worst_status, y_val_worst_status = train_test_split(X_train_without_worst_status_nan[[\n",
    "                                                                                                            'recovery_debt', \n",
    "                                                                                                            'avg_payment_span_0_12m',\n",
    "                                                                                                            'avg_payment_span_0_3m',\n",
    "                                                                                                            'num_arch_rem_0_12m']],\n",
    "                                                                                                X_train_without_worst_status_nan['worst_status_active_inv'], \n",
    "                                                                                                test_size=0.2, \n",
    "                                                                                                random_state=42)"
   ]
  },
  {
   "cell_type": "code",
   "execution_count": 462,
   "id": "9796004f",
   "metadata": {},
   "outputs": [],
   "source": [
    "from sklearn.preprocessing import MinMaxScaler"
   ]
  },
  {
   "cell_type": "code",
   "execution_count": 463,
   "id": "99f2ef99",
   "metadata": {},
   "outputs": [],
   "source": [
    "scaler = MinMaxScaler()"
   ]
  },
  {
   "cell_type": "code",
   "execution_count": 464,
   "id": "4d05eadf",
   "metadata": {},
   "outputs": [],
   "source": [
    "# data normalization\n",
    "X_train_worst_status = scaler.fit_transform(X_train_worst_status)\n",
    "X_val_worst_status = scaler.transform(X_val_worst_status)\n",
    "\n",
    "# save scaler in S3\n",
    "pkl_filename = 'scaler_worst_status_active_inv.pkl'\n",
    "upload_to_S3(pkl_filename,scaler)"
   ]
  },
  {
   "cell_type": "code",
   "execution_count": 465,
   "id": "4f9b74a3",
   "metadata": {},
   "outputs": [],
   "source": [
    "lr_worst_status = LinearRegression()"
   ]
  },
  {
   "cell_type": "code",
   "execution_count": 466,
   "id": "79a6f003",
   "metadata": {},
   "outputs": [
    {
     "data": {
      "text/plain": [
       "LinearRegression()"
      ]
     },
     "execution_count": 466,
     "metadata": {},
     "output_type": "execute_result"
    }
   ],
   "source": [
    "lr_worst_status.fit(X_train_worst_status,y_train_worst_status)"
   ]
  },
  {
   "cell_type": "code",
   "execution_count": 467,
   "id": "ffb17cbf",
   "metadata": {},
   "outputs": [],
   "source": [
    "# save scaler in S3\n",
    "pkl_filename = 'lr_worst_status_active_inv.pkl'\n",
    "upload_to_S3(pkl_filename,lr_worst_status)"
   ]
  },
  {
   "cell_type": "code",
   "execution_count": 468,
   "id": "f6907229",
   "metadata": {},
   "outputs": [
    {
     "name": "stdout",
     "output_type": "stream",
     "text": [
      "train error = 0.18822180420572562, test error = 0.19067355856069612\n"
     ]
    }
   ],
   "source": [
    "train_error_mae = mean_absolute_error(y_train_worst_status,\n",
    "                                      lr_worst_status.predict(X_train_worst_status))\n",
    "\n",
    "test_error_mae = mean_absolute_error(y_val_worst_status,\n",
    "                                     lr_worst_status.predict(X_val_worst_status))\n",
    "\n",
    "print(f'train error = {train_error_mae}, test error = {test_error_mae}')"
   ]
  },
  {
   "cell_type": "code",
   "execution_count": 469,
   "id": "84c28a2a",
   "metadata": {},
   "outputs": [],
   "source": [
    "def inputer_worst_status_active_inv(x):\n",
    "    a = 0\n",
    "    if pd.isnull(x['worst_status_active_inv']):\n",
    "        X_data = scaler.transform(np.array(x[['recovery_debt', \n",
    "                                     'avg_payment_span_0_12m',\n",
    "                                     'avg_payment_span_0_3m',\n",
    "                                     'num_arch_rem_0_12m']]).reshape(1,4))\n",
    "        a = lr_worst_status.predict(X_data)[0]\n",
    "        a = np.clip(a,1.,3.)\n",
    "    else:\n",
    "        a = x['worst_status_active_inv']\n",
    "    return a"
   ]
  },
  {
   "cell_type": "code",
   "execution_count": 470,
   "id": "3630563b",
   "metadata": {},
   "outputs": [],
   "source": [
    "for dataset in datasets:\n",
    "    dataset['worst_status_active_inv'] = dataset.apply(lambda x: inputer_worst_status_active_inv(x),axis=1)"
   ]
  },
  {
   "cell_type": "markdown",
   "id": "387e9ca8",
   "metadata": {},
   "source": [
    "## 3) num_active_div_by_paid_inv_0_12m"
   ]
  },
  {
   "cell_type": "markdown",
   "id": "a878c836",
   "metadata": {},
   "source": [
    "#### KNN strategy to fill in nan"
   ]
  },
  {
   "cell_type": "code",
   "execution_count": 471,
   "id": "fbacbd3f",
   "metadata": {},
   "outputs": [],
   "source": [
    "# Do not include categorical columns (not prepared yet), index, and account columns (with many nan), and target (default)\n",
    "column_predictors = ['account_amount_added_12_24m', 'account_days_in_dc_12_24m',\n",
    "       'account_days_in_rem_12_24m', 'account_days_in_term_12_24m',\n",
    "       'age', 'avg_payment_span_0_12m','avg_payment_span_0_3m', \n",
    "       'has_paid', 'max_paid_inv_0_12m', \n",
    "       'max_paid_inv_0_24m', 'num_active_inv',\n",
    "       'num_arch_dc_0_12m', 'num_arch_dc_12_24m', \n",
    "       'num_arch_ok_0_12m', 'num_arch_ok_12_24m', \n",
    "       'num_arch_rem_0_12m', 'num_unpaid_bills',\n",
    "       'status_last_archived_0_24m', 'status_2nd_last_archived_0_24m',\n",
    "       'status_3rd_last_archived_0_24m', 'status_max_archived_0_6_months',\n",
    "       'status_max_archived_0_12_months', 'status_max_archived_0_24_months',\n",
    "       'recovery_debt', 'sum_capital_paid_account_0_12m',\n",
    "       'sum_capital_paid_account_12_24m', 'sum_paid_inv_0_12m', \n",
    "        'time_hours', 'worst_status_active_inv']"
   ]
  },
  {
   "cell_type": "code",
   "execution_count": 472,
   "id": "fb5f7283",
   "metadata": {},
   "outputs": [],
   "source": [
    "def data_preprocessing_knn(df,feature_name,column_predictors):\n",
    "    feature_without_nan = df.loc[df[feature_name].dropna().index]\n",
    "    feature_without_nan = feature_without_nan.dropna()\n",
    "    X_feature = feature_without_nan[column_predictors]\n",
    "    y_feature = feature_without_nan[feature_name]\n",
    "\n",
    "\n",
    "    X_train_, X_validate_, X_test_ = np.split(X_feature.sample(frac=1, random_state=42), \n",
    "                       [int(.6*len(X_feature)), int(.8*len(X_feature))])\n",
    "\n",
    "\n",
    "    y_train_, y_validate_, y_test_ = np.split(y_feature.sample(frac=1, random_state=42), \n",
    "                       [int(.6*len(y_feature)), int(.8*len(y_feature))])\n",
    "    \n",
    "    scaler_ = MinMaxScaler()\n",
    "    X_train_norm = scaler_.fit_transform(X_train_)\n",
    "    X_validate_norm = scaler_.transform(X_validate_)\n",
    "    X_test_norm = scaler_.transform(X_test_)\n",
    "    \n",
    "    return X_train_norm, X_validate_norm, X_test_norm,y_train_, y_validate_, y_test_,scaler_"
   ]
  },
  {
   "cell_type": "code",
   "execution_count": 473,
   "id": "d50792a3",
   "metadata": {},
   "outputs": [],
   "source": [
    "X_train_div_by_paid_norm, X_val_div_by_paid_norm, X_test_div_by_paid_norm, y_train_div_by_paid, y_validate_div_by_paid, y_test_div_by_paid, scaler = data_preprocessing_knn(X_train,'num_active_div_by_paid_inv_0_12m',column_predictors)"
   ]
  },
  {
   "cell_type": "code",
   "execution_count": 474,
   "id": "66c227ee",
   "metadata": {},
   "outputs": [],
   "source": [
    "# save scaler in S3\n",
    "pkl_filename = 'num_active_dim_scaler.pkl'\n",
    "\n",
    "upload_to_S3(pkl_filename,scaler)"
   ]
  },
  {
   "cell_type": "code",
   "execution_count": 475,
   "id": "c9a3cde6",
   "metadata": {},
   "outputs": [],
   "source": [
    "from sklearn.neighbors import KNeighborsRegressor"
   ]
  },
  {
   "cell_type": "code",
   "execution_count": 476,
   "id": "ab659406",
   "metadata": {},
   "outputs": [
    {
     "name": "stdout",
     "output_type": "stream",
     "text": [
      "3\n",
      "5\n",
      "8\n",
      "10\n",
      "15\n",
      "20\n",
      "25\n"
     ]
    }
   ],
   "source": [
    "mae_knn_train = {}\n",
    "mae_knn_val = {}\n",
    "for number_of_neighbors in [3,5,8,10,15,20,25]:\n",
    "    print(number_of_neighbors)\n",
    "    knn_div_by_paid = KNeighborsRegressor(number_of_neighbors)\n",
    "    knn_div_by_paid.fit(X_train_div_by_paid_norm,y_train_div_by_paid)\n",
    "    \n",
    "    mae_knn_train[number_of_neighbors] = mean_absolute_error(y_train_div_by_paid,\n",
    "                                                             knn_div_by_paid.predict(X_train_div_by_paid_norm))\n",
    "    \n",
    "    mae_knn_val[number_of_neighbors] = mean_absolute_error(y_validate_div_by_paid,\n",
    "                                                           knn_div_by_paid.predict(X_val_div_by_paid_norm))"
   ]
  },
  {
   "cell_type": "code",
   "execution_count": 477,
   "id": "904cf9a0",
   "metadata": {},
   "outputs": [
    {
     "data": {
      "text/html": [
       "<div>\n",
       "<style scoped>\n",
       "    .dataframe tbody tr th:only-of-type {\n",
       "        vertical-align: middle;\n",
       "    }\n",
       "\n",
       "    .dataframe tbody tr th {\n",
       "        vertical-align: top;\n",
       "    }\n",
       "\n",
       "    .dataframe thead th {\n",
       "        text-align: right;\n",
       "    }\n",
       "</style>\n",
       "<table border=\"1\" class=\"dataframe\">\n",
       "  <thead>\n",
       "    <tr style=\"text-align: right;\">\n",
       "      <th></th>\n",
       "      <th>train_mae</th>\n",
       "      <th>val_mae</th>\n",
       "    </tr>\n",
       "    <tr>\n",
       "      <th>neighbors</th>\n",
       "      <th></th>\n",
       "      <th></th>\n",
       "    </tr>\n",
       "  </thead>\n",
       "  <tbody>\n",
       "    <tr>\n",
       "      <th>3</th>\n",
       "      <td>0.085871</td>\n",
       "      <td>0.123161</td>\n",
       "    </tr>\n",
       "    <tr>\n",
       "      <th>5</th>\n",
       "      <td>0.101848</td>\n",
       "      <td>0.125329</td>\n",
       "    </tr>\n",
       "    <tr>\n",
       "      <th>8</th>\n",
       "      <td>0.113682</td>\n",
       "      <td>0.127268</td>\n",
       "    </tr>\n",
       "    <tr>\n",
       "      <th>10</th>\n",
       "      <td>0.118058</td>\n",
       "      <td>0.129111</td>\n",
       "    </tr>\n",
       "    <tr>\n",
       "      <th>15</th>\n",
       "      <td>0.124689</td>\n",
       "      <td>0.132006</td>\n",
       "    </tr>\n",
       "    <tr>\n",
       "      <th>20</th>\n",
       "      <td>0.128638</td>\n",
       "      <td>0.134577</td>\n",
       "    </tr>\n",
       "    <tr>\n",
       "      <th>25</th>\n",
       "      <td>0.131788</td>\n",
       "      <td>0.136396</td>\n",
       "    </tr>\n",
       "  </tbody>\n",
       "</table>\n",
       "</div>"
      ],
      "text/plain": [
       "           train_mae   val_mae\n",
       "neighbors                     \n",
       "3           0.085871  0.123161\n",
       "5           0.101848  0.125329\n",
       "8           0.113682  0.127268\n",
       "10          0.118058  0.129111\n",
       "15          0.124689  0.132006\n",
       "20          0.128638  0.134577\n",
       "25          0.131788  0.136396"
      ]
     },
     "execution_count": 477,
     "metadata": {},
     "output_type": "execute_result"
    }
   ],
   "source": [
    "mae_knn_df = pd.DataFrame.from_dict(mae_knn_train,orient='index',columns=['train_mae'])\n",
    "mae_knn_df['val_mae'] = mae_knn_val.values()\n",
    "mae_knn_df.index.name = 'neighbors'\n",
    "mae_knn_df"
   ]
  },
  {
   "cell_type": "code",
   "execution_count": 478,
   "id": "c2f252da",
   "metadata": {},
   "outputs": [
    {
     "name": "stdout",
     "output_type": "stream",
     "text": [
      "test mae: 0.12256984832520826\n"
     ]
    }
   ],
   "source": [
    "knn_div_by_paid = KNeighborsRegressor(3)\n",
    "knn_div_by_paid.fit(X_train_div_by_paid_norm,y_train_div_by_paid)\n",
    "print(f\"test mae: {mean_absolute_error(y_test_div_by_paid,knn_div_by_paid.predict(X_test_div_by_paid_norm))}\")"
   ]
  },
  {
   "cell_type": "code",
   "execution_count": 479,
   "id": "552b7e5d",
   "metadata": {},
   "outputs": [],
   "source": [
    "# save model in S3\n",
    "pkl_filename = 'knn_div_by_paid.pkl'\n",
    "upload_to_S3(pkl_filename,knn_div_by_paid)"
   ]
  },
  {
   "cell_type": "code",
   "execution_count": 480,
   "id": "9280d681",
   "metadata": {},
   "outputs": [],
   "source": [
    "def inputer_num_active_div_by_paid_inv_0_12m(x):\n",
    "    a = 0\n",
    "    if pd.isnull(x['num_active_div_by_paid_inv_0_12m']):   \n",
    "        X_data_normalized = scaler.transform(np.array(x[column_predictors]).reshape(1,len(column_predictors)))\n",
    "        a = knn_div_by_paid.predict(X_data_normalized)[0]\n",
    "        a = np.clip(a,0.,None)\n",
    "    else:\n",
    "        a = x['num_active_div_by_paid_inv_0_12m']\n",
    "    return a"
   ]
  },
  {
   "cell_type": "code",
   "execution_count": 481,
   "id": "9b3828d2",
   "metadata": {},
   "outputs": [],
   "source": [
    "for dataset in datasets:\n",
    "    dataset['num_active_div_by_paid_inv_0_12m'] = dataset.apply(lambda x: inputer_num_active_div_by_paid_inv_0_12m(x),axis=1)"
   ]
  },
  {
   "cell_type": "markdown",
   "id": "cc7e9cc3",
   "metadata": {},
   "source": [
    "## 4) Account_status"
   ]
  },
  {
   "cell_type": "markdown",
   "id": "548f3439",
   "metadata": {},
   "source": [
    "#### KNN strategy"
   ]
  },
  {
   "cell_type": "code",
   "execution_count": 501,
   "id": "e31ea6f9",
   "metadata": {},
   "outputs": [],
   "source": [
    "# Do not include categorical columns (not prepared yet), index, and target (default)\n",
    "column_predictors_account_status = ['account_amount_added_12_24m', 'account_days_in_dc_12_24m',\n",
    "       'account_days_in_rem_12_24m', 'account_days_in_term_12_24m',                     \n",
    "       'age', 'avg_payment_span_0_12m','avg_payment_span_0_3m', \n",
    "       'has_paid', 'max_paid_inv_0_12m', \n",
    "       'max_paid_inv_0_24m', 'num_active_inv',\n",
    "       'num_arch_dc_0_12m', 'num_arch_dc_12_24m', \n",
    "       'num_arch_ok_0_12m', 'num_arch_ok_12_24m', \n",
    "       'num_arch_rem_0_12m', 'num_unpaid_bills',\n",
    "       'status_last_archived_0_24m', 'status_2nd_last_archived_0_24m',\n",
    "       'status_3rd_last_archived_0_24m', 'status_max_archived_0_6_months',\n",
    "       'status_max_archived_0_12_months', 'status_max_archived_0_24_months',\n",
    "       'recovery_debt', 'sum_capital_paid_account_0_12m',\n",
    "       'sum_capital_paid_account_12_24m', 'sum_paid_inv_0_12m', \n",
    "        'time_hours', 'worst_status_active_inv','num_active_div_by_paid_inv_0_12m']"
   ]
  },
  {
   "cell_type": "code",
   "execution_count": 502,
   "id": "53fa25e0",
   "metadata": {},
   "outputs": [],
   "source": [
    "# split data and normalize it\n",
    "feature_name = 'account_status'\n",
    "X_train_account_norm, X_validate_account_norm, X_test_account_norm,y_train_account, y_validate_account, y_test_account, scaler = data_preprocessing_knn(X_train,feature_name,column_predictors_account_status)"
   ]
  },
  {
   "cell_type": "code",
   "execution_count": 503,
   "id": "f1527cf8",
   "metadata": {},
   "outputs": [],
   "source": [
    "# save scaler in S3\n",
    "pkl_filename = 'account_scaler.pkl'\n",
    "upload_to_S3(pkl_filename,scaler)"
   ]
  },
  {
   "cell_type": "code",
   "execution_count": 504,
   "id": "3f37b413",
   "metadata": {},
   "outputs": [],
   "source": [
    "from sklearn.neighbors import KNeighborsClassifier\n",
    "from sklearn.metrics import accuracy_score"
   ]
  },
  {
   "cell_type": "code",
   "execution_count": 486,
   "id": "b560af53",
   "metadata": {},
   "outputs": [
    {
     "name": "stdout",
     "output_type": "stream",
     "text": [
      "3\n",
      "5\n",
      "8\n",
      "10\n",
      "15\n",
      "20\n"
     ]
    }
   ],
   "source": [
    "mae_knn_train = {}\n",
    "mae_knn_val = {}\n",
    "for number_of_neighbors in [3,5,8,10,15,20]:\n",
    "    print(number_of_neighbors)\n",
    "    knn_account = KNeighborsClassifier(number_of_neighbors)\n",
    "    knn_account.fit(X_train_account_norm,y_train_account)\n",
    "    mae_knn_train[number_of_neighbors] = accuracy_score(y_train_account,knn_account.predict(X_train_account_norm))\n",
    "    mae_knn_val[number_of_neighbors] = accuracy_score(y_validate_account,knn_account.predict(X_validate_account_norm))"
   ]
  },
  {
   "cell_type": "code",
   "execution_count": 487,
   "id": "725869c2",
   "metadata": {},
   "outputs": [
    {
     "data": {
      "text/html": [
       "<div>\n",
       "<style scoped>\n",
       "    .dataframe tbody tr th:only-of-type {\n",
       "        vertical-align: middle;\n",
       "    }\n",
       "\n",
       "    .dataframe tbody tr th {\n",
       "        vertical-align: top;\n",
       "    }\n",
       "\n",
       "    .dataframe thead th {\n",
       "        text-align: right;\n",
       "    }\n",
       "</style>\n",
       "<table border=\"1\" class=\"dataframe\">\n",
       "  <thead>\n",
       "    <tr style=\"text-align: right;\">\n",
       "      <th></th>\n",
       "      <th>train_acc</th>\n",
       "      <th>val_acc</th>\n",
       "    </tr>\n",
       "    <tr>\n",
       "      <th>neighbors</th>\n",
       "      <th></th>\n",
       "      <th></th>\n",
       "    </tr>\n",
       "  </thead>\n",
       "  <tbody>\n",
       "    <tr>\n",
       "      <th>3</th>\n",
       "      <td>0.964015</td>\n",
       "      <td>0.954713</td>\n",
       "    </tr>\n",
       "    <tr>\n",
       "      <th>5</th>\n",
       "      <td>0.959782</td>\n",
       "      <td>0.959057</td>\n",
       "    </tr>\n",
       "    <tr>\n",
       "      <th>8</th>\n",
       "      <td>0.958278</td>\n",
       "      <td>0.960227</td>\n",
       "    </tr>\n",
       "    <tr>\n",
       "      <th>10</th>\n",
       "      <td>0.958111</td>\n",
       "      <td>0.960227</td>\n",
       "    </tr>\n",
       "    <tr>\n",
       "      <th>15</th>\n",
       "      <td>0.957943</td>\n",
       "      <td>0.960227</td>\n",
       "    </tr>\n",
       "    <tr>\n",
       "      <th>20</th>\n",
       "      <td>0.957665</td>\n",
       "      <td>0.959726</td>\n",
       "    </tr>\n",
       "  </tbody>\n",
       "</table>\n",
       "</div>"
      ],
      "text/plain": [
       "           train_acc   val_acc\n",
       "neighbors                     \n",
       "3           0.964015  0.954713\n",
       "5           0.959782  0.959057\n",
       "8           0.958278  0.960227\n",
       "10          0.958111  0.960227\n",
       "15          0.957943  0.960227\n",
       "20          0.957665  0.959726"
      ]
     },
     "execution_count": 487,
     "metadata": {},
     "output_type": "execute_result"
    }
   ],
   "source": [
    "mae_knn_df = pd.DataFrame.from_dict(mae_knn_train,orient='index',columns=['train_acc'])\n",
    "mae_knn_df['val_acc'] = mae_knn_val.values()\n",
    "mae_knn_df.index.name = 'neighbors'\n",
    "mae_knn_df"
   ]
  },
  {
   "cell_type": "code",
   "execution_count": 505,
   "id": "3fe3ffe5",
   "metadata": {},
   "outputs": [],
   "source": [
    "def inputer_account_status(x, feature,scaler_account):\n",
    "    a = 0\n",
    "    if pd.isnull(x[feature]):   \n",
    "        X_data_normalized = scaler_account.transform(np.array(x[column_predictors_account_status]).reshape(1,len(column_predictors_account_status)))\n",
    "        a = knn_account.predict(X_data_normalized)[0]\n",
    "    else:\n",
    "        a = x[feature]\n",
    "    assert a != 0, 'problem with inputer_account_status'\n",
    "    return a"
   ]
  },
  {
   "cell_type": "code",
   "execution_count": 506,
   "id": "797e2261",
   "metadata": {},
   "outputs": [],
   "source": [
    "feature_name = 'account_status'\n",
    "knn_account = KNeighborsClassifier(8)\n",
    "knn_account.fit(X_train_account_norm,y_train_account)\n",
    "X_train_account_norm, X_validate_account_norm, X_test_account_norm,y_train_account, y_validate_account, y_test_account, scaler = data_preprocessing_knn(X_train,feature_name,column_predictors_account_status)"
   ]
  },
  {
   "cell_type": "code",
   "execution_count": 507,
   "id": "ff0127f7",
   "metadata": {},
   "outputs": [],
   "source": [
    "pkl_filename = 'account_status_knn.pkl'\n",
    "upload_to_S3(pkl_filename,knn_account)"
   ]
  },
  {
   "cell_type": "code",
   "execution_count": 491,
   "id": "3d91bb88",
   "metadata": {},
   "outputs": [],
   "source": [
    "for dataset in datasets:\n",
    "    dataset[feature_name] = dataset.apply(lambda x: inputer_account_status(x, feature_name,scaler),axis=1)"
   ]
  },
  {
   "cell_type": "markdown",
   "id": "3e0883c7",
   "metadata": {},
   "source": [
    "## 5) Worst_status new feature"
   ]
  },
  {
   "cell_type": "code",
   "execution_count": 508,
   "id": "660b94d4",
   "metadata": {},
   "outputs": [
    {
     "ename": "KeyError",
     "evalue": "\"['account_worst_status_6_12m', 'account_worst_status_12_24m', 'account_worst_status_0_3m', 'account_worst_status_3_6m'] not in index\"",
     "output_type": "error",
     "traceback": [
      "\u001b[0;31m---------------------------------------------------------------------------\u001b[0m",
      "\u001b[0;31mKeyError\u001b[0m                                  Traceback (most recent call last)",
      "\u001b[0;32m<ipython-input-508-4d921d06de05>\u001b[0m in \u001b[0;36m<module>\u001b[0;34m\u001b[0m\n\u001b[1;32m      4\u001b[0m                                 \u001b[0;34m'account_worst_status_12_24m'\u001b[0m\u001b[0;34m,\u001b[0m\u001b[0;34m\u001b[0m\u001b[0;34m\u001b[0m\u001b[0m\n\u001b[1;32m      5\u001b[0m                                 \u001b[0;34m'account_worst_status_3_6m'\u001b[0m\u001b[0;34m,\u001b[0m\u001b[0;34m\u001b[0m\u001b[0;34m\u001b[0m\u001b[0m\n\u001b[0;32m----> 6\u001b[0;31m                                 'account_worst_status_6_12m']].max(axis=1))\n\u001b[0m\u001b[1;32m      7\u001b[0m     dataset.drop(columns=['account_worst_status_0_3m',\n\u001b[1;32m      8\u001b[0m                                 \u001b[0;34m'account_worst_status_12_24m'\u001b[0m\u001b[0;34m,\u001b[0m\u001b[0;34m\u001b[0m\u001b[0;34m\u001b[0m\u001b[0m\n",
      "\u001b[0;32m~/anaconda3/envs/python3/lib/python3.6/site-packages/pandas/core/frame.py\u001b[0m in \u001b[0;36m__getitem__\u001b[0;34m(self, key)\u001b[0m\n\u001b[1;32m   2910\u001b[0m             \u001b[0;32mif\u001b[0m \u001b[0mis_iterator\u001b[0m\u001b[0;34m(\u001b[0m\u001b[0mkey\u001b[0m\u001b[0;34m)\u001b[0m\u001b[0;34m:\u001b[0m\u001b[0;34m\u001b[0m\u001b[0;34m\u001b[0m\u001b[0m\n\u001b[1;32m   2911\u001b[0m                 \u001b[0mkey\u001b[0m \u001b[0;34m=\u001b[0m \u001b[0mlist\u001b[0m\u001b[0;34m(\u001b[0m\u001b[0mkey\u001b[0m\u001b[0;34m)\u001b[0m\u001b[0;34m\u001b[0m\u001b[0;34m\u001b[0m\u001b[0m\n\u001b[0;32m-> 2912\u001b[0;31m             \u001b[0mindexer\u001b[0m \u001b[0;34m=\u001b[0m \u001b[0mself\u001b[0m\u001b[0;34m.\u001b[0m\u001b[0mloc\u001b[0m\u001b[0;34m.\u001b[0m\u001b[0m_get_listlike_indexer\u001b[0m\u001b[0;34m(\u001b[0m\u001b[0mkey\u001b[0m\u001b[0;34m,\u001b[0m \u001b[0maxis\u001b[0m\u001b[0;34m=\u001b[0m\u001b[0;36m1\u001b[0m\u001b[0;34m,\u001b[0m \u001b[0mraise_missing\u001b[0m\u001b[0;34m=\u001b[0m\u001b[0;32mTrue\u001b[0m\u001b[0;34m)\u001b[0m\u001b[0;34m[\u001b[0m\u001b[0;36m1\u001b[0m\u001b[0;34m]\u001b[0m\u001b[0;34m\u001b[0m\u001b[0;34m\u001b[0m\u001b[0m\n\u001b[0m\u001b[1;32m   2913\u001b[0m \u001b[0;34m\u001b[0m\u001b[0m\n\u001b[1;32m   2914\u001b[0m         \u001b[0;31m# take() does not accept boolean indexers\u001b[0m\u001b[0;34m\u001b[0m\u001b[0;34m\u001b[0m\u001b[0;34m\u001b[0m\u001b[0m\n",
      "\u001b[0;32m~/anaconda3/envs/python3/lib/python3.6/site-packages/pandas/core/indexing.py\u001b[0m in \u001b[0;36m_get_listlike_indexer\u001b[0;34m(self, key, axis, raise_missing)\u001b[0m\n\u001b[1;32m   1252\u001b[0m             \u001b[0mkeyarr\u001b[0m\u001b[0;34m,\u001b[0m \u001b[0mindexer\u001b[0m\u001b[0;34m,\u001b[0m \u001b[0mnew_indexer\u001b[0m \u001b[0;34m=\u001b[0m \u001b[0max\u001b[0m\u001b[0;34m.\u001b[0m\u001b[0m_reindex_non_unique\u001b[0m\u001b[0;34m(\u001b[0m\u001b[0mkeyarr\u001b[0m\u001b[0;34m)\u001b[0m\u001b[0;34m\u001b[0m\u001b[0;34m\u001b[0m\u001b[0m\n\u001b[1;32m   1253\u001b[0m \u001b[0;34m\u001b[0m\u001b[0m\n\u001b[0;32m-> 1254\u001b[0;31m         \u001b[0mself\u001b[0m\u001b[0;34m.\u001b[0m\u001b[0m_validate_read_indexer\u001b[0m\u001b[0;34m(\u001b[0m\u001b[0mkeyarr\u001b[0m\u001b[0;34m,\u001b[0m \u001b[0mindexer\u001b[0m\u001b[0;34m,\u001b[0m \u001b[0maxis\u001b[0m\u001b[0;34m,\u001b[0m \u001b[0mraise_missing\u001b[0m\u001b[0;34m=\u001b[0m\u001b[0mraise_missing\u001b[0m\u001b[0;34m)\u001b[0m\u001b[0;34m\u001b[0m\u001b[0;34m\u001b[0m\u001b[0m\n\u001b[0m\u001b[1;32m   1255\u001b[0m         \u001b[0;32mreturn\u001b[0m \u001b[0mkeyarr\u001b[0m\u001b[0;34m,\u001b[0m \u001b[0mindexer\u001b[0m\u001b[0;34m\u001b[0m\u001b[0;34m\u001b[0m\u001b[0m\n\u001b[1;32m   1256\u001b[0m \u001b[0;34m\u001b[0m\u001b[0m\n",
      "\u001b[0;32m~/anaconda3/envs/python3/lib/python3.6/site-packages/pandas/core/indexing.py\u001b[0m in \u001b[0;36m_validate_read_indexer\u001b[0;34m(self, key, indexer, axis, raise_missing)\u001b[0m\n\u001b[1;32m   1302\u001b[0m             \u001b[0;32mif\u001b[0m \u001b[0mraise_missing\u001b[0m\u001b[0;34m:\u001b[0m\u001b[0;34m\u001b[0m\u001b[0;34m\u001b[0m\u001b[0m\n\u001b[1;32m   1303\u001b[0m                 \u001b[0mnot_found\u001b[0m \u001b[0;34m=\u001b[0m \u001b[0mlist\u001b[0m\u001b[0;34m(\u001b[0m\u001b[0mset\u001b[0m\u001b[0;34m(\u001b[0m\u001b[0mkey\u001b[0m\u001b[0;34m)\u001b[0m \u001b[0;34m-\u001b[0m \u001b[0mset\u001b[0m\u001b[0;34m(\u001b[0m\u001b[0max\u001b[0m\u001b[0;34m)\u001b[0m\u001b[0;34m)\u001b[0m\u001b[0;34m\u001b[0m\u001b[0;34m\u001b[0m\u001b[0m\n\u001b[0;32m-> 1304\u001b[0;31m                 \u001b[0;32mraise\u001b[0m \u001b[0mKeyError\u001b[0m\u001b[0;34m(\u001b[0m\u001b[0;34mf\"{not_found} not in index\"\u001b[0m\u001b[0;34m)\u001b[0m\u001b[0;34m\u001b[0m\u001b[0;34m\u001b[0m\u001b[0m\n\u001b[0m\u001b[1;32m   1305\u001b[0m \u001b[0;34m\u001b[0m\u001b[0m\n\u001b[1;32m   1306\u001b[0m             \u001b[0;31m# we skip the warning on Categorical\u001b[0m\u001b[0;34m\u001b[0m\u001b[0;34m\u001b[0m\u001b[0;34m\u001b[0m\u001b[0m\n",
      "\u001b[0;31mKeyError\u001b[0m: \"['account_worst_status_6_12m', 'account_worst_status_12_24m', 'account_worst_status_0_3m', 'account_worst_status_3_6m'] not in index\""
     ]
    }
   ],
   "source": [
    "#Select the worst historical account status\n",
    "for dataset in datasets:\n",
    "    dataset['worst_status'] = pd.DataFrame(dataset[['account_status','account_worst_status_0_3m',\n",
    "                                'account_worst_status_12_24m',\n",
    "                                'account_worst_status_3_6m',\n",
    "                                'account_worst_status_6_12m']].max(axis=1))\n",
    "    dataset.drop(columns=['account_worst_status_0_3m',\n",
    "                                'account_worst_status_12_24m',\n",
    "                                'account_worst_status_3_6m',\n",
    "                                'account_worst_status_6_12m'],inplace=True)"
   ]
  },
  {
   "cell_type": "code",
   "execution_count": 500,
   "id": "21312169",
   "metadata": {},
   "outputs": [],
   "source": [
    "column_predictors_worst_status = ['account_amount_added_12_24m', 'account_days_in_dc_12_24m',\n",
    "       'account_days_in_rem_12_24m', 'account_days_in_term_12_24m',                     \n",
    "       'age', 'avg_payment_span_0_12m','avg_payment_span_0_3m', \n",
    "       'has_paid', 'max_paid_inv_0_12m', 'account_status', \n",
    "       'max_paid_inv_0_24m', 'num_active_inv',\n",
    "       'num_arch_dc_0_12m', 'num_arch_dc_12_24m', \n",
    "       'num_arch_ok_0_12m', 'num_arch_ok_12_24m', \n",
    "       'num_arch_rem_0_12m', 'num_unpaid_bills',\n",
    "       'status_last_archived_0_24m', 'status_2nd_last_archived_0_24m',\n",
    "       'status_3rd_last_archived_0_24m', 'status_max_archived_0_6_months',\n",
    "       'status_max_archived_0_12_months', 'status_max_archived_0_24_months',\n",
    "       'recovery_debt', 'sum_capital_paid_account_0_12m',\n",
    "       'sum_capital_paid_account_12_24m', 'sum_paid_inv_0_12m', \n",
    "        'time_hours', 'worst_status_active_inv','num_active_div_by_paid_inv_0_12m']\n",
    "\n",
    "feature_name = 'worst_status'\n",
    "\n",
    "X_train_account_norm, X_validate_account_norm, X_test_account_norm,y_train_account, y_validate_account, y_test_account, scaler = data_preprocessing_knn(X_train,feature_name,column_predictors_worst_status)\n",
    "\n",
    "# save scaler in S3\n",
    "upload_to_S3('worst_status_scaler.pkl',scaler)\n",
    "\n",
    "knn_account = KNeighborsClassifier(8)  # assume the same number of nearest neighbors that for account status\n",
    "knn_account.fit(X_train_account_norm,y_train_account)\n",
    "\n",
    "#save model in S3\n",
    "upload_to_S3('worst_status_knn.pkl',knn_account)\n",
    "\n",
    "for dataset in datasets:    \n",
    "    dataset[feature_name] = dataset.apply(lambda x: inputer_account_status(x, feature_name,scaler),axis=1)"
   ]
  },
  {
   "cell_type": "code",
   "execution_count": null,
   "id": "4abcaf1b",
   "metadata": {},
   "outputs": [],
   "source": []
  },
  {
   "cell_type": "markdown",
   "id": "2c9c02a8",
   "metadata": {},
   "source": [
    "## Save in S3"
   ]
  },
  {
   "cell_type": "code",
   "execution_count": 494,
   "id": "0d108edf",
   "metadata": {},
   "outputs": [],
   "source": [
    "df.to_csv('df_1_to_2.csv')"
   ]
  },
  {
   "cell_type": "code",
   "execution_count": 495,
   "id": "f9059c8b",
   "metadata": {},
   "outputs": [],
   "source": [
    "prefix= 'data_prep'\n",
    "boto3.Session().resource('s3').Bucket(bucket).Object(os.path.join(prefix, 'df_1_to_2.csv')).upload_file('df_1_to_2.csv')"
   ]
  },
  {
   "cell_type": "code",
   "execution_count": null,
   "id": "8f224897",
   "metadata": {},
   "outputs": [],
   "source": []
  },
  {
   "cell_type": "code",
   "execution_count": 522,
   "id": "5ce6ae00",
   "metadata": {},
   "outputs": [],
   "source": [
    "# save test labels\n",
    "(df_test['uuid'].values).tofile('test_uuid.csv', sep = ',')\n",
    "boto3.Session().resource('s3').Bucket(bucket).Object(os.path.join(prefix, 'test_uuid.csv')).upload_file('test_uuid.csv')"
   ]
  },
  {
   "cell_type": "code",
   "execution_count": 525,
   "id": "39011f4e",
   "metadata": {},
   "outputs": [
    {
     "data": {
      "text/plain": [
       "(10000,)"
      ]
     },
     "execution_count": 525,
     "metadata": {},
     "output_type": "execute_result"
    }
   ],
   "source": [
    "df_test['uuid'].values.shape"
   ]
  },
  {
   "cell_type": "code",
   "execution_count": null,
   "id": "8c8ad9d9",
   "metadata": {},
   "outputs": [],
   "source": []
  },
  {
   "cell_type": "code",
   "execution_count": null,
   "id": "7d6d9d31",
   "metadata": {},
   "outputs": [],
   "source": []
  },
  {
   "cell_type": "code",
   "execution_count": 496,
   "id": "f7e7c67c",
   "metadata": {},
   "outputs": [
    {
     "data": {
      "text/plain": [
       "{'ResponseMetadata': {'RequestId': '8MKJNCGEY4B20SSQ',\n",
       "  'HostId': 'JZ665Kq0MlHE0XbDZVG8wgF3lFYN3f2L8ZvcC41sD0n8jjxikBx5pXP0X9tVs+dCEVZYvGNNh5w=',\n",
       "  'HTTPStatusCode': 200,\n",
       "  'HTTPHeaders': {'x-amz-id-2': 'JZ665Kq0MlHE0XbDZVG8wgF3lFYN3f2L8ZvcC41sD0n8jjxikBx5pXP0X9tVs+dCEVZYvGNNh5w=',\n",
       "   'x-amz-request-id': '8MKJNCGEY4B20SSQ',\n",
       "   'date': 'Wed, 11 Aug 2021 20:13:28 GMT',\n",
       "   'etag': '\"44c8aa0940b0dd9799f4272948ca9397\"',\n",
       "   'server': 'AmazonS3',\n",
       "   'content-length': '0'},\n",
       "  'RetryAttempts': 0},\n",
       " 'ETag': '\"44c8aa0940b0dd9799f4272948ca9397\"'}"
      ]
     },
     "execution_count": 496,
     "metadata": {},
     "output_type": "execute_result"
    }
   ],
   "source": [
    "# save model in S3\n",
    "#pkl_filename = 'lr_avg_payment.pkl'\n",
    "#with open(pkl_filename, 'wb') as file:\n",
    "#    pickle.dump(lr_avg_payment, file)\n",
    "    \n",
    "#s3_resource = boto3.resource('s3')\n",
    "\n",
    "\n",
    "##key= 'pickle_model.pkl'\n",
    "\n",
    "#pickle_byte_obj = pickle.dumps(lr_avg_payment)\n",
    "\n",
    "#s3_resource.Object(bucket,pkl_filename).put(Body=pickle_byte_obj)"
   ]
  }
 ],
 "metadata": {
  "kernelspec": {
   "display_name": "conda_python3",
   "language": "python",
   "name": "conda_python3"
  },
  "language_info": {
   "codemirror_mode": {
    "name": "ipython",
    "version": 3
   },
   "file_extension": ".py",
   "mimetype": "text/x-python",
   "name": "python",
   "nbconvert_exporter": "python",
   "pygments_lexer": "ipython3",
   "version": "3.6.13"
  }
 },
 "nbformat": 4,
 "nbformat_minor": 5
}
