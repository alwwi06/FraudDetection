{
 "cells": [
  {
   "cell_type": "code",
   "execution_count": 128,
   "id": "9ada5f79",
   "metadata": {},
   "outputs": [],
   "source": [
    "import boto3\n",
    "import sagemaker\n",
    "\n",
    "#visualize\n",
    "import matplotlib.pyplot as plt\n",
    "%matplotlib inline\n",
    "%config InlineBackend.figure_format='retina'\n",
    "plt.style.use('seaborn')\n",
    "import seaborn as sns\n",
    "\n",
    "import pandas as pd\n",
    "import numpy as np\n",
    "\n",
    "import os\n",
    "import pickle"
   ]
  },
  {
   "cell_type": "code",
   "execution_count": 103,
   "id": "7ce696ce",
   "metadata": {},
   "outputs": [
    {
     "name": "stdout",
     "output_type": "stream",
     "text": [
      "Requirement already satisfied: pip in /home/ec2-user/anaconda3/envs/python3/lib/python3.6/site-packages (21.2.3)\n"
     ]
    }
   ],
   "source": [
    "!pip install --upgrade pip\n",
    "!pip install -q imbalanced-learn"
   ]
  },
  {
   "cell_type": "code",
   "execution_count": 129,
   "id": "3d86d1c8",
   "metadata": {},
   "outputs": [
    {
     "name": "stdout",
     "output_type": "stream",
     "text": [
      "region name: us-east-2\n"
     ]
    }
   ],
   "source": [
    "# Sagemaker activation\n",
    "session = boto3.session.Session()\n",
    "region_name = session.region_name\n",
    "print(f'region name: {region_name}')\n",
    "sagemaker_session = sagemaker.Session()\n",
    "bucket = 'klarnadataset'\n",
    "role = sagemaker.get_execution_role()"
   ]
  },
  {
   "cell_type": "code",
   "execution_count": 131,
   "id": "95a50611",
   "metadata": {},
   "outputs": [],
   "source": [
    "# save model in S3\n",
    "def upload_to_S3(pkl_filename,model):\n",
    "    with open(pkl_filename, 'wb') as file:\n",
    "        pickle.dump(model, file)\n",
    "    s3_resource = boto3.resource('s3')\n",
    "    pickle_byte_obj = pickle.dumps(model)\n",
    "    s3_resource.Object(bucket,pkl_filename).put(Body=pickle_byte_obj)"
   ]
  },
  {
   "cell_type": "code",
   "execution_count": 132,
   "id": "9bc95c87",
   "metadata": {},
   "outputs": [],
   "source": [
    "# load dat from s3\n",
    "prefix = 'data_prep'\n",
    "data_key_df = 'df_1_to_2.csv'\n",
    "data_location = 's3://{}/{}/{}'.format(bucket, prefix, data_key_df)\n",
    "df = pd.read_csv(data_location,delimiter=',',index_col=0)"
   ]
  },
  {
   "cell_type": "code",
   "execution_count": 76,
   "id": "bb5cff0e",
   "metadata": {},
   "outputs": [
    {
     "data": {
      "text/html": [
       "<div>\n",
       "<style scoped>\n",
       "    .dataframe tbody tr th:only-of-type {\n",
       "        vertical-align: middle;\n",
       "    }\n",
       "\n",
       "    .dataframe tbody tr th {\n",
       "        vertical-align: top;\n",
       "    }\n",
       "\n",
       "    .dataframe thead th {\n",
       "        text-align: right;\n",
       "    }\n",
       "</style>\n",
       "<table border=\"1\" class=\"dataframe\">\n",
       "  <thead>\n",
       "    <tr style=\"text-align: right;\">\n",
       "      <th></th>\n",
       "      <th>uuid</th>\n",
       "      <th>default</th>\n",
       "      <th>account_amount_added_12_24m</th>\n",
       "      <th>account_days_in_dc_12_24m</th>\n",
       "      <th>account_days_in_rem_12_24m</th>\n",
       "      <th>account_days_in_term_12_24m</th>\n",
       "      <th>account_status</th>\n",
       "      <th>age</th>\n",
       "      <th>avg_payment_span_0_12m</th>\n",
       "      <th>avg_payment_span_0_3m</th>\n",
       "      <th>...</th>\n",
       "      <th>status_max_archived_0_6_months</th>\n",
       "      <th>status_max_archived_0_12_months</th>\n",
       "      <th>status_max_archived_0_24_months</th>\n",
       "      <th>recovery_debt</th>\n",
       "      <th>sum_capital_paid_account_0_12m</th>\n",
       "      <th>sum_capital_paid_account_12_24m</th>\n",
       "      <th>sum_paid_inv_0_12m</th>\n",
       "      <th>time_hours</th>\n",
       "      <th>worst_status_active_inv</th>\n",
       "      <th>worst_status</th>\n",
       "    </tr>\n",
       "  </thead>\n",
       "  <tbody>\n",
       "    <tr>\n",
       "      <th>0</th>\n",
       "      <td>63f69b2c-8b1c-4740-b78d-52ed9a4515ac</td>\n",
       "      <td>0.0</td>\n",
       "      <td>0</td>\n",
       "      <td>0.0</td>\n",
       "      <td>0.0</td>\n",
       "      <td>0.0</td>\n",
       "      <td>1.0</td>\n",
       "      <td>20</td>\n",
       "      <td>12.692308</td>\n",
       "      <td>8.333333</td>\n",
       "      <td>...</td>\n",
       "      <td>1</td>\n",
       "      <td>1</td>\n",
       "      <td>1</td>\n",
       "      <td>0</td>\n",
       "      <td>0</td>\n",
       "      <td>0</td>\n",
       "      <td>178839</td>\n",
       "      <td>9.653333</td>\n",
       "      <td>1.000000</td>\n",
       "      <td>1.0</td>\n",
       "    </tr>\n",
       "    <tr>\n",
       "      <th>1</th>\n",
       "      <td>0e961183-8c15-4470-9a5e-07a1bd207661</td>\n",
       "      <td>0.0</td>\n",
       "      <td>0</td>\n",
       "      <td>0.0</td>\n",
       "      <td>0.0</td>\n",
       "      <td>0.0</td>\n",
       "      <td>1.0</td>\n",
       "      <td>50</td>\n",
       "      <td>25.833333</td>\n",
       "      <td>25.000000</td>\n",
       "      <td>...</td>\n",
       "      <td>1</td>\n",
       "      <td>2</td>\n",
       "      <td>2</td>\n",
       "      <td>0</td>\n",
       "      <td>0</td>\n",
       "      <td>0</td>\n",
       "      <td>49014</td>\n",
       "      <td>13.181389</td>\n",
       "      <td>1.202723</td>\n",
       "      <td>1.0</td>\n",
       "    </tr>\n",
       "    <tr>\n",
       "      <th>2</th>\n",
       "      <td>d8edaae6-4368-44e0-941e-8328f203e64e</td>\n",
       "      <td>0.0</td>\n",
       "      <td>0</td>\n",
       "      <td>0.0</td>\n",
       "      <td>0.0</td>\n",
       "      <td>0.0</td>\n",
       "      <td>1.0</td>\n",
       "      <td>22</td>\n",
       "      <td>20.000000</td>\n",
       "      <td>18.000000</td>\n",
       "      <td>...</td>\n",
       "      <td>1</td>\n",
       "      <td>2</td>\n",
       "      <td>2</td>\n",
       "      <td>0</td>\n",
       "      <td>0</td>\n",
       "      <td>0</td>\n",
       "      <td>124839</td>\n",
       "      <td>11.561944</td>\n",
       "      <td>1.000000</td>\n",
       "      <td>1.0</td>\n",
       "    </tr>\n",
       "    <tr>\n",
       "      <th>3</th>\n",
       "      <td>0095dfb6-a886-4e2a-b056-15ef45fdb0ef</td>\n",
       "      <td>0.0</td>\n",
       "      <td>0</td>\n",
       "      <td>0.0</td>\n",
       "      <td>0.0</td>\n",
       "      <td>0.0</td>\n",
       "      <td>1.0</td>\n",
       "      <td>36</td>\n",
       "      <td>4.687500</td>\n",
       "      <td>4.888889</td>\n",
       "      <td>...</td>\n",
       "      <td>1</td>\n",
       "      <td>1</td>\n",
       "      <td>1</td>\n",
       "      <td>0</td>\n",
       "      <td>0</td>\n",
       "      <td>0</td>\n",
       "      <td>324676</td>\n",
       "      <td>15.751111</td>\n",
       "      <td>1.000000</td>\n",
       "      <td>1.0</td>\n",
       "    </tr>\n",
       "    <tr>\n",
       "      <th>4</th>\n",
       "      <td>c8f8b835-5647-4506-bf15-49105d8af30b</td>\n",
       "      <td>0.0</td>\n",
       "      <td>0</td>\n",
       "      <td>0.0</td>\n",
       "      <td>0.0</td>\n",
       "      <td>0.0</td>\n",
       "      <td>1.0</td>\n",
       "      <td>25</td>\n",
       "      <td>13.000000</td>\n",
       "      <td>13.000000</td>\n",
       "      <td>...</td>\n",
       "      <td>1</td>\n",
       "      <td>1</td>\n",
       "      <td>1</td>\n",
       "      <td>0</td>\n",
       "      <td>0</td>\n",
       "      <td>0</td>\n",
       "      <td>7100</td>\n",
       "      <td>12.698611</td>\n",
       "      <td>1.067889</td>\n",
       "      <td>1.0</td>\n",
       "    </tr>\n",
       "  </tbody>\n",
       "</table>\n",
       "<p>5 rows × 36 columns</p>\n",
       "</div>"
      ],
      "text/plain": [
       "                                   uuid  default  account_amount_added_12_24m  \\\n",
       "0  63f69b2c-8b1c-4740-b78d-52ed9a4515ac      0.0                            0   \n",
       "1  0e961183-8c15-4470-9a5e-07a1bd207661      0.0                            0   \n",
       "2  d8edaae6-4368-44e0-941e-8328f203e64e      0.0                            0   \n",
       "3  0095dfb6-a886-4e2a-b056-15ef45fdb0ef      0.0                            0   \n",
       "4  c8f8b835-5647-4506-bf15-49105d8af30b      0.0                            0   \n",
       "\n",
       "   account_days_in_dc_12_24m  account_days_in_rem_12_24m  \\\n",
       "0                        0.0                         0.0   \n",
       "1                        0.0                         0.0   \n",
       "2                        0.0                         0.0   \n",
       "3                        0.0                         0.0   \n",
       "4                        0.0                         0.0   \n",
       "\n",
       "   account_days_in_term_12_24m  account_status  age  avg_payment_span_0_12m  \\\n",
       "0                          0.0             1.0   20               12.692308   \n",
       "1                          0.0             1.0   50               25.833333   \n",
       "2                          0.0             1.0   22               20.000000   \n",
       "3                          0.0             1.0   36                4.687500   \n",
       "4                          0.0             1.0   25               13.000000   \n",
       "\n",
       "   avg_payment_span_0_3m  ... status_max_archived_0_6_months  \\\n",
       "0               8.333333  ...                              1   \n",
       "1              25.000000  ...                              1   \n",
       "2              18.000000  ...                              1   \n",
       "3               4.888889  ...                              1   \n",
       "4              13.000000  ...                              1   \n",
       "\n",
       "   status_max_archived_0_12_months  status_max_archived_0_24_months  \\\n",
       "0                                1                                1   \n",
       "1                                2                                2   \n",
       "2                                2                                2   \n",
       "3                                1                                1   \n",
       "4                                1                                1   \n",
       "\n",
       "   recovery_debt sum_capital_paid_account_0_12m  \\\n",
       "0              0                              0   \n",
       "1              0                              0   \n",
       "2              0                              0   \n",
       "3              0                              0   \n",
       "4              0                              0   \n",
       "\n",
       "   sum_capital_paid_account_12_24m  sum_paid_inv_0_12m  time_hours  \\\n",
       "0                                0              178839    9.653333   \n",
       "1                                0               49014   13.181389   \n",
       "2                                0              124839   11.561944   \n",
       "3                                0              324676   15.751111   \n",
       "4                                0                7100   12.698611   \n",
       "\n",
       "   worst_status_active_inv  worst_status  \n",
       "0                 1.000000           1.0  \n",
       "1                 1.202723           1.0  \n",
       "2                 1.000000           1.0  \n",
       "3                 1.000000           1.0  \n",
       "4                 1.067889           1.0  \n",
       "\n",
       "[5 rows x 36 columns]"
      ]
     },
     "execution_count": 76,
     "metadata": {},
     "output_type": "execute_result"
    }
   ],
   "source": [
    "df.head(5)"
   ]
  },
  {
   "cell_type": "markdown",
   "id": "398c3fb8",
   "metadata": {},
   "source": [
    "## 0) Drop: uuid"
   ]
  },
  {
   "cell_type": "code",
   "execution_count": 133,
   "id": "b3bfb71b",
   "metadata": {},
   "outputs": [],
   "source": [
    "df.drop(columns=['uuid'],inplace=True)"
   ]
  },
  {
   "cell_type": "markdown",
   "id": "2ec0cbf5",
   "metadata": {},
   "source": [
    "## 1) Convert merchant_group to dummy variables"
   ]
  },
  {
   "cell_type": "code",
   "execution_count": 135,
   "id": "d54261aa",
   "metadata": {},
   "outputs": [],
   "source": [
    "df = pd.get_dummies(df, columns=[\"merchant_group\"], prefix=[\"merchant_group\"] )"
   ]
  },
  {
   "cell_type": "code",
   "execution_count": 108,
   "id": "c327fdc3",
   "metadata": {},
   "outputs": [
    {
     "data": {
      "text/html": [
       "<div>\n",
       "<style scoped>\n",
       "    .dataframe tbody tr th:only-of-type {\n",
       "        vertical-align: middle;\n",
       "    }\n",
       "\n",
       "    .dataframe tbody tr th {\n",
       "        vertical-align: top;\n",
       "    }\n",
       "\n",
       "    .dataframe thead th {\n",
       "        text-align: right;\n",
       "    }\n",
       "</style>\n",
       "<table border=\"1\" class=\"dataframe\">\n",
       "  <thead>\n",
       "    <tr style=\"text-align: right;\">\n",
       "      <th></th>\n",
       "      <th>default</th>\n",
       "      <th>account_amount_added_12_24m</th>\n",
       "      <th>account_days_in_dc_12_24m</th>\n",
       "      <th>account_days_in_rem_12_24m</th>\n",
       "      <th>account_days_in_term_12_24m</th>\n",
       "      <th>account_status</th>\n",
       "      <th>age</th>\n",
       "      <th>avg_payment_span_0_12m</th>\n",
       "      <th>avg_payment_span_0_3m</th>\n",
       "      <th>has_paid</th>\n",
       "      <th>...</th>\n",
       "      <th>merchant_group_Clothing &amp; Shoes</th>\n",
       "      <th>merchant_group_Electronics</th>\n",
       "      <th>merchant_group_Entertainment</th>\n",
       "      <th>merchant_group_Erotic Materials</th>\n",
       "      <th>merchant_group_Food &amp; Beverage</th>\n",
       "      <th>merchant_group_Health &amp; Beauty</th>\n",
       "      <th>merchant_group_Home &amp; Garden</th>\n",
       "      <th>merchant_group_Intangible products</th>\n",
       "      <th>merchant_group_Jewelry &amp; Accessories</th>\n",
       "      <th>merchant_group_Leisure, Sport &amp; Hobby</th>\n",
       "    </tr>\n",
       "  </thead>\n",
       "  <tbody>\n",
       "    <tr>\n",
       "      <th>0</th>\n",
       "      <td>0.0</td>\n",
       "      <td>0</td>\n",
       "      <td>0.0</td>\n",
       "      <td>0.0</td>\n",
       "      <td>0.0</td>\n",
       "      <td>1.0</td>\n",
       "      <td>20</td>\n",
       "      <td>12.692308</td>\n",
       "      <td>8.333333</td>\n",
       "      <td>True</td>\n",
       "      <td>...</td>\n",
       "      <td>0</td>\n",
       "      <td>0</td>\n",
       "      <td>0</td>\n",
       "      <td>0</td>\n",
       "      <td>0</td>\n",
       "      <td>1</td>\n",
       "      <td>0</td>\n",
       "      <td>0</td>\n",
       "      <td>0</td>\n",
       "      <td>0</td>\n",
       "    </tr>\n",
       "    <tr>\n",
       "      <th>1</th>\n",
       "      <td>0.0</td>\n",
       "      <td>0</td>\n",
       "      <td>0.0</td>\n",
       "      <td>0.0</td>\n",
       "      <td>0.0</td>\n",
       "      <td>1.0</td>\n",
       "      <td>50</td>\n",
       "      <td>25.833333</td>\n",
       "      <td>25.000000</td>\n",
       "      <td>True</td>\n",
       "      <td>...</td>\n",
       "      <td>0</td>\n",
       "      <td>0</td>\n",
       "      <td>1</td>\n",
       "      <td>0</td>\n",
       "      <td>0</td>\n",
       "      <td>0</td>\n",
       "      <td>0</td>\n",
       "      <td>0</td>\n",
       "      <td>0</td>\n",
       "      <td>0</td>\n",
       "    </tr>\n",
       "    <tr>\n",
       "      <th>2</th>\n",
       "      <td>0.0</td>\n",
       "      <td>0</td>\n",
       "      <td>0.0</td>\n",
       "      <td>0.0</td>\n",
       "      <td>0.0</td>\n",
       "      <td>1.0</td>\n",
       "      <td>22</td>\n",
       "      <td>20.000000</td>\n",
       "      <td>18.000000</td>\n",
       "      <td>True</td>\n",
       "      <td>...</td>\n",
       "      <td>0</td>\n",
       "      <td>0</td>\n",
       "      <td>1</td>\n",
       "      <td>0</td>\n",
       "      <td>0</td>\n",
       "      <td>0</td>\n",
       "      <td>0</td>\n",
       "      <td>0</td>\n",
       "      <td>0</td>\n",
       "      <td>0</td>\n",
       "    </tr>\n",
       "    <tr>\n",
       "      <th>3</th>\n",
       "      <td>0.0</td>\n",
       "      <td>0</td>\n",
       "      <td>0.0</td>\n",
       "      <td>0.0</td>\n",
       "      <td>0.0</td>\n",
       "      <td>1.0</td>\n",
       "      <td>36</td>\n",
       "      <td>4.687500</td>\n",
       "      <td>4.888889</td>\n",
       "      <td>True</td>\n",
       "      <td>...</td>\n",
       "      <td>0</td>\n",
       "      <td>0</td>\n",
       "      <td>1</td>\n",
       "      <td>0</td>\n",
       "      <td>0</td>\n",
       "      <td>0</td>\n",
       "      <td>0</td>\n",
       "      <td>0</td>\n",
       "      <td>0</td>\n",
       "      <td>0</td>\n",
       "    </tr>\n",
       "    <tr>\n",
       "      <th>4</th>\n",
       "      <td>0.0</td>\n",
       "      <td>0</td>\n",
       "      <td>0.0</td>\n",
       "      <td>0.0</td>\n",
       "      <td>0.0</td>\n",
       "      <td>1.0</td>\n",
       "      <td>25</td>\n",
       "      <td>13.000000</td>\n",
       "      <td>13.000000</td>\n",
       "      <td>True</td>\n",
       "      <td>...</td>\n",
       "      <td>0</td>\n",
       "      <td>1</td>\n",
       "      <td>0</td>\n",
       "      <td>0</td>\n",
       "      <td>0</td>\n",
       "      <td>0</td>\n",
       "      <td>0</td>\n",
       "      <td>0</td>\n",
       "      <td>0</td>\n",
       "      <td>0</td>\n",
       "    </tr>\n",
       "  </tbody>\n",
       "</table>\n",
       "<p>5 rows × 46 columns</p>\n",
       "</div>"
      ],
      "text/plain": [
       "   default  account_amount_added_12_24m  account_days_in_dc_12_24m  \\\n",
       "0      0.0                            0                        0.0   \n",
       "1      0.0                            0                        0.0   \n",
       "2      0.0                            0                        0.0   \n",
       "3      0.0                            0                        0.0   \n",
       "4      0.0                            0                        0.0   \n",
       "\n",
       "   account_days_in_rem_12_24m  account_days_in_term_12_24m  account_status  \\\n",
       "0                         0.0                          0.0             1.0   \n",
       "1                         0.0                          0.0             1.0   \n",
       "2                         0.0                          0.0             1.0   \n",
       "3                         0.0                          0.0             1.0   \n",
       "4                         0.0                          0.0             1.0   \n",
       "\n",
       "   age  avg_payment_span_0_12m  avg_payment_span_0_3m  has_paid  ...  \\\n",
       "0   20               12.692308               8.333333      True  ...   \n",
       "1   50               25.833333              25.000000      True  ...   \n",
       "2   22               20.000000              18.000000      True  ...   \n",
       "3   36                4.687500               4.888889      True  ...   \n",
       "4   25               13.000000              13.000000      True  ...   \n",
       "\n",
       "   merchant_group_Clothing & Shoes  merchant_group_Electronics  \\\n",
       "0                                0                           0   \n",
       "1                                0                           0   \n",
       "2                                0                           0   \n",
       "3                                0                           0   \n",
       "4                                0                           1   \n",
       "\n",
       "  merchant_group_Entertainment  merchant_group_Erotic Materials  \\\n",
       "0                            0                                0   \n",
       "1                            1                                0   \n",
       "2                            1                                0   \n",
       "3                            1                                0   \n",
       "4                            0                                0   \n",
       "\n",
       "   merchant_group_Food & Beverage  merchant_group_Health & Beauty  \\\n",
       "0                               0                               1   \n",
       "1                               0                               0   \n",
       "2                               0                               0   \n",
       "3                               0                               0   \n",
       "4                               0                               0   \n",
       "\n",
       "   merchant_group_Home & Garden  merchant_group_Intangible products  \\\n",
       "0                             0                                   0   \n",
       "1                             0                                   0   \n",
       "2                             0                                   0   \n",
       "3                             0                                   0   \n",
       "4                             0                                   0   \n",
       "\n",
       "   merchant_group_Jewelry & Accessories  merchant_group_Leisure, Sport & Hobby  \n",
       "0                                     0                                      0  \n",
       "1                                     0                                      0  \n",
       "2                                     0                                      0  \n",
       "3                                     0                                      0  \n",
       "4                                     0                                      0  \n",
       "\n",
       "[5 rows x 46 columns]"
      ]
     },
     "execution_count": 108,
     "metadata": {},
     "output_type": "execute_result"
    }
   ],
   "source": [
    "df.head(5)"
   ]
  },
  {
   "cell_type": "markdown",
   "id": "ec996af3",
   "metadata": {},
   "source": [
    "## 2) Convert name_in_email to a categorical variable:\n",
    "#### reveals personal info or not"
   ]
  },
  {
   "cell_type": "code",
   "execution_count": 136,
   "id": "40cbfc1e",
   "metadata": {},
   "outputs": [
    {
     "data": {
      "text/plain": [
       "F+L         40389\n",
       "no_match    16826\n",
       "L1+F        16089\n",
       "F            9705\n",
       "Nick         8310\n",
       "F1+L         7300\n",
       "L            1332\n",
       "Initials       25\n",
       "Name: name_in_email, dtype: int64"
      ]
     },
     "execution_count": 136,
     "metadata": {},
     "output_type": "execute_result"
    }
   ],
   "source": [
    "df['name_in_email'].value_counts()"
   ]
  },
  {
   "cell_type": "code",
   "execution_count": 137,
   "id": "e0b7a4f2",
   "metadata": {},
   "outputs": [],
   "source": [
    "def email_address_format(x):\n",
    "    if x in ['no_match','Nick']:\n",
    "        x = 0 # doesn't reveal personal information\n",
    "    elif x in ['F+L','L1+F','F','F1+L','L','Initials']:\n",
    "        x = 1 # provides personal information\n",
    "    else:\n",
    "        pass\n",
    "    return x"
   ]
  },
  {
   "cell_type": "code",
   "execution_count": 138,
   "id": "c8edbb32",
   "metadata": {},
   "outputs": [],
   "source": [
    "df['name_in_email'] = df['name_in_email'].apply(lambda x: email_address_format(x))"
   ]
  },
  {
   "cell_type": "markdown",
   "id": "b9d626d2",
   "metadata": {},
   "source": [
    "## 3) Convert has_paid from boolean to categorical "
   ]
  },
  {
   "cell_type": "code",
   "execution_count": 139,
   "id": "81fd534d",
   "metadata": {},
   "outputs": [],
   "source": [
    "df['has_paid'] = df['has_paid'].apply(lambda x: 0. if x == True else 1.)"
   ]
  },
  {
   "cell_type": "markdown",
   "id": "927c639a",
   "metadata": {},
   "source": [
    "## 4) Normalize the whole dataset"
   ]
  },
  {
   "cell_type": "markdown",
   "id": "8079b680",
   "metadata": {},
   "source": [
    "#### For a tree-based algortihm the normalization process would not be necessary. However, to oversample the minority class a KNN-based algoritm is used below, which performs better on normalized data"
   ]
  },
  {
   "cell_type": "code",
   "execution_count": 140,
   "id": "50899398",
   "metadata": {},
   "outputs": [],
   "source": [
    "from sklearn.preprocessing import RobustScaler # better in the presence of outliers than MinMaxScaler"
   ]
  },
  {
   "cell_type": "code",
   "execution_count": 141,
   "id": "878387dd",
   "metadata": {},
   "outputs": [],
   "source": [
    "# Split data train test"
   ]
  },
  {
   "cell_type": "code",
   "execution_count": 142,
   "id": "aba59000",
   "metadata": {},
   "outputs": [],
   "source": [
    "train, test = df.dropna(), df[df.isnull().any(axis=1)]"
   ]
  },
  {
   "cell_type": "code",
   "execution_count": 143,
   "id": "92ae3a18",
   "metadata": {},
   "outputs": [],
   "source": [
    "scaler = RobustScaler().fit(train)"
   ]
  },
  {
   "cell_type": "code",
   "execution_count": 144,
   "id": "eeab774b",
   "metadata": {},
   "outputs": [],
   "source": [
    "train_norm = scaler.transform(train)\n",
    "test_norm = scaler.transform(test)"
   ]
  },
  {
   "cell_type": "code",
   "execution_count": 145,
   "id": "6bfe4df1",
   "metadata": {},
   "outputs": [],
   "source": [
    "upload_to_S3('robust_scaler.pkl',scaler)"
   ]
  },
  {
   "cell_type": "code",
   "execution_count": 146,
   "id": "8e72573c",
   "metadata": {},
   "outputs": [
    {
     "data": {
      "text/html": [
       "<div>\n",
       "<style scoped>\n",
       "    .dataframe tbody tr th:only-of-type {\n",
       "        vertical-align: middle;\n",
       "    }\n",
       "\n",
       "    .dataframe tbody tr th {\n",
       "        vertical-align: top;\n",
       "    }\n",
       "\n",
       "    .dataframe thead th {\n",
       "        text-align: right;\n",
       "    }\n",
       "</style>\n",
       "<table border=\"1\" class=\"dataframe\">\n",
       "  <thead>\n",
       "    <tr style=\"text-align: right;\">\n",
       "      <th></th>\n",
       "      <th>default</th>\n",
       "      <th>account_amount_added_12_24m</th>\n",
       "      <th>account_days_in_dc_12_24m</th>\n",
       "      <th>account_days_in_rem_12_24m</th>\n",
       "      <th>account_days_in_term_12_24m</th>\n",
       "      <th>account_status</th>\n",
       "      <th>age</th>\n",
       "      <th>avg_payment_span_0_12m</th>\n",
       "      <th>avg_payment_span_0_3m</th>\n",
       "      <th>has_paid</th>\n",
       "      <th>...</th>\n",
       "      <th>merchant_group_Clothing &amp; Shoes</th>\n",
       "      <th>merchant_group_Electronics</th>\n",
       "      <th>merchant_group_Entertainment</th>\n",
       "      <th>merchant_group_Erotic Materials</th>\n",
       "      <th>merchant_group_Food &amp; Beverage</th>\n",
       "      <th>merchant_group_Health &amp; Beauty</th>\n",
       "      <th>merchant_group_Home &amp; Garden</th>\n",
       "      <th>merchant_group_Intangible products</th>\n",
       "      <th>merchant_group_Jewelry &amp; Accessories</th>\n",
       "      <th>merchant_group_Leisure, Sport &amp; Hobby</th>\n",
       "    </tr>\n",
       "  </thead>\n",
       "  <tbody>\n",
       "    <tr>\n",
       "      <th>0</th>\n",
       "      <td>0.0</td>\n",
       "      <td>0.0</td>\n",
       "      <td>0.0</td>\n",
       "      <td>0.0</td>\n",
       "      <td>0.0</td>\n",
       "      <td>0.0</td>\n",
       "      <td>-0.70</td>\n",
       "      <td>-0.009059</td>\n",
       "      <td>-0.279070</td>\n",
       "      <td>0.0</td>\n",
       "      <td>...</td>\n",
       "      <td>0.0</td>\n",
       "      <td>0.0</td>\n",
       "      <td>0.0</td>\n",
       "      <td>0.0</td>\n",
       "      <td>0.0</td>\n",
       "      <td>1.0</td>\n",
       "      <td>0.0</td>\n",
       "      <td>0.0</td>\n",
       "      <td>0.0</td>\n",
       "      <td>0.0</td>\n",
       "    </tr>\n",
       "    <tr>\n",
       "      <th>1</th>\n",
       "      <td>0.0</td>\n",
       "      <td>0.0</td>\n",
       "      <td>0.0</td>\n",
       "      <td>0.0</td>\n",
       "      <td>0.0</td>\n",
       "      <td>0.0</td>\n",
       "      <td>0.80</td>\n",
       "      <td>0.949521</td>\n",
       "      <td>0.883721</td>\n",
       "      <td>0.0</td>\n",
       "      <td>...</td>\n",
       "      <td>0.0</td>\n",
       "      <td>0.0</td>\n",
       "      <td>1.0</td>\n",
       "      <td>0.0</td>\n",
       "      <td>0.0</td>\n",
       "      <td>0.0</td>\n",
       "      <td>0.0</td>\n",
       "      <td>0.0</td>\n",
       "      <td>0.0</td>\n",
       "      <td>0.0</td>\n",
       "    </tr>\n",
       "    <tr>\n",
       "      <th>2</th>\n",
       "      <td>0.0</td>\n",
       "      <td>0.0</td>\n",
       "      <td>0.0</td>\n",
       "      <td>0.0</td>\n",
       "      <td>0.0</td>\n",
       "      <td>0.0</td>\n",
       "      <td>-0.60</td>\n",
       "      <td>0.524005</td>\n",
       "      <td>0.395349</td>\n",
       "      <td>0.0</td>\n",
       "      <td>...</td>\n",
       "      <td>0.0</td>\n",
       "      <td>0.0</td>\n",
       "      <td>1.0</td>\n",
       "      <td>0.0</td>\n",
       "      <td>0.0</td>\n",
       "      <td>0.0</td>\n",
       "      <td>0.0</td>\n",
       "      <td>0.0</td>\n",
       "      <td>0.0</td>\n",
       "      <td>0.0</td>\n",
       "    </tr>\n",
       "    <tr>\n",
       "      <th>3</th>\n",
       "      <td>0.0</td>\n",
       "      <td>0.0</td>\n",
       "      <td>0.0</td>\n",
       "      <td>0.0</td>\n",
       "      <td>0.0</td>\n",
       "      <td>0.0</td>\n",
       "      <td>0.10</td>\n",
       "      <td>-0.592975</td>\n",
       "      <td>-0.519380</td>\n",
       "      <td>0.0</td>\n",
       "      <td>...</td>\n",
       "      <td>0.0</td>\n",
       "      <td>0.0</td>\n",
       "      <td>1.0</td>\n",
       "      <td>0.0</td>\n",
       "      <td>0.0</td>\n",
       "      <td>0.0</td>\n",
       "      <td>0.0</td>\n",
       "      <td>0.0</td>\n",
       "      <td>0.0</td>\n",
       "      <td>0.0</td>\n",
       "    </tr>\n",
       "    <tr>\n",
       "      <th>4</th>\n",
       "      <td>0.0</td>\n",
       "      <td>0.0</td>\n",
       "      <td>0.0</td>\n",
       "      <td>0.0</td>\n",
       "      <td>0.0</td>\n",
       "      <td>0.0</td>\n",
       "      <td>-0.45</td>\n",
       "      <td>0.013386</td>\n",
       "      <td>0.046512</td>\n",
       "      <td>0.0</td>\n",
       "      <td>...</td>\n",
       "      <td>0.0</td>\n",
       "      <td>1.0</td>\n",
       "      <td>0.0</td>\n",
       "      <td>0.0</td>\n",
       "      <td>0.0</td>\n",
       "      <td>0.0</td>\n",
       "      <td>0.0</td>\n",
       "      <td>0.0</td>\n",
       "      <td>0.0</td>\n",
       "      <td>0.0</td>\n",
       "    </tr>\n",
       "  </tbody>\n",
       "</table>\n",
       "<p>5 rows × 46 columns</p>\n",
       "</div>"
      ],
      "text/plain": [
       "   default  account_amount_added_12_24m  account_days_in_dc_12_24m  \\\n",
       "0      0.0                          0.0                        0.0   \n",
       "1      0.0                          0.0                        0.0   \n",
       "2      0.0                          0.0                        0.0   \n",
       "3      0.0                          0.0                        0.0   \n",
       "4      0.0                          0.0                        0.0   \n",
       "\n",
       "   account_days_in_rem_12_24m  account_days_in_term_12_24m  account_status  \\\n",
       "0                         0.0                          0.0             0.0   \n",
       "1                         0.0                          0.0             0.0   \n",
       "2                         0.0                          0.0             0.0   \n",
       "3                         0.0                          0.0             0.0   \n",
       "4                         0.0                          0.0             0.0   \n",
       "\n",
       "    age  avg_payment_span_0_12m  avg_payment_span_0_3m  has_paid  ...  \\\n",
       "0 -0.70               -0.009059              -0.279070       0.0  ...   \n",
       "1  0.80                0.949521               0.883721       0.0  ...   \n",
       "2 -0.60                0.524005               0.395349       0.0  ...   \n",
       "3  0.10               -0.592975              -0.519380       0.0  ...   \n",
       "4 -0.45                0.013386               0.046512       0.0  ...   \n",
       "\n",
       "   merchant_group_Clothing & Shoes  merchant_group_Electronics  \\\n",
       "0                              0.0                         0.0   \n",
       "1                              0.0                         0.0   \n",
       "2                              0.0                         0.0   \n",
       "3                              0.0                         0.0   \n",
       "4                              0.0                         1.0   \n",
       "\n",
       "   merchant_group_Entertainment  merchant_group_Erotic Materials  \\\n",
       "0                           0.0                              0.0   \n",
       "1                           1.0                              0.0   \n",
       "2                           1.0                              0.0   \n",
       "3                           1.0                              0.0   \n",
       "4                           0.0                              0.0   \n",
       "\n",
       "   merchant_group_Food & Beverage  merchant_group_Health & Beauty  \\\n",
       "0                             0.0                             1.0   \n",
       "1                             0.0                             0.0   \n",
       "2                             0.0                             0.0   \n",
       "3                             0.0                             0.0   \n",
       "4                             0.0                             0.0   \n",
       "\n",
       "   merchant_group_Home & Garden  merchant_group_Intangible products  \\\n",
       "0                           0.0                                 0.0   \n",
       "1                           0.0                                 0.0   \n",
       "2                           0.0                                 0.0   \n",
       "3                           0.0                                 0.0   \n",
       "4                           0.0                                 0.0   \n",
       "\n",
       "   merchant_group_Jewelry & Accessories  merchant_group_Leisure, Sport & Hobby  \n",
       "0                                   0.0                                    0.0  \n",
       "1                                   0.0                                    0.0  \n",
       "2                                   0.0                                    0.0  \n",
       "3                                   0.0                                    0.0  \n",
       "4                                   0.0                                    0.0  \n",
       "\n",
       "[5 rows x 46 columns]"
      ]
     },
     "execution_count": 146,
     "metadata": {},
     "output_type": "execute_result"
    }
   ],
   "source": [
    "train_norm = pd.DataFrame(train_norm,columns=train.columns)\n",
    "train_norm.head(5)"
   ]
  },
  {
   "cell_type": "markdown",
   "id": "d85f55a6",
   "metadata": {},
   "source": []
  },
  {
   "cell_type": "code",
   "execution_count": 68,
   "id": "d8c50278",
   "metadata": {},
   "outputs": [],
   "source": []
  },
  {
   "cell_type": "markdown",
   "id": "8abc3f9c",
   "metadata": {},
   "source": [
    "## 5) Class Imbalance Strategy: over and undersampling"
   ]
  },
  {
   "cell_type": "markdown",
   "id": "c8b18a67",
   "metadata": {},
   "source": [
    "#### In order to balance the target examples, the minority class is oversampled using SMOTE, and the majority class is undersampled. To avoid introducing even more bias in the oversamplimg, the final target ratio is not forzed to be 1:1 "
   ]
  },
  {
   "cell_type": "code",
   "execution_count": 89,
   "id": "e7c5c960",
   "metadata": {},
   "outputs": [
    {
     "data": {
      "text/plain": [
       "array([88688,  1288])"
      ]
     },
     "execution_count": 89,
     "metadata": {},
     "output_type": "execute_result"
    },
    {
     "data": {
      "image/png": "[encoded data removed]",
      "text/plain": [
       "<Figure size 576x396 with 1 Axes>"
      ]
     },
     "metadata": {
      "image/png": {
       "height": 329,
       "width": 499
      }
     },
     "output_type": "display_data"
    }
   ],
   "source": [
    "plt.bar(['non defaulters','defaulters'],train_norm['default'].value_counts().values)\n",
    "train_norm['default'].value_counts().values"
   ]
  },
  {
   "cell_type": "markdown",
   "id": "d84d7582",
   "metadata": {},
   "source": [
    "## 5a) Undersampling"
   ]
  },
  {
   "cell_type": "code",
   "execution_count": 90,
   "id": "0bc2c975",
   "metadata": {},
   "outputs": [],
   "source": [
    "train_norm_no_defaulters = train_norm[train_norm['default'] == 0.]\n",
    "\n",
    "# 40% of the majority class examples are dropped\n",
    "train_norm__no_defaulter_under = train_norm_no_defaulters.sample(frac=0.6, random_state=42)"
   ]
  },
  {
   "cell_type": "code",
   "execution_count": 91,
   "id": "fbd5dc21",
   "metadata": {},
   "outputs": [
    {
     "data": {
      "text/plain": [
       "0.0    53213\n",
       "1.0     1288\n",
       "Name: default, dtype: int64"
      ]
     },
     "execution_count": 91,
     "metadata": {},
     "output_type": "execute_result"
    }
   ],
   "source": [
    "# merge undersampled training set with the majority class examples\n",
    "train_under = pd.concat([train_norm__no_defaulter_under,train_norm[train_norm['default'] == 1.]])\n",
    "train_under['default'].value_counts()"
   ]
  },
  {
   "cell_type": "markdown",
   "id": "a316d14e",
   "metadata": {},
   "source": [
    "## Create a validation set"
   ]
  },
  {
   "cell_type": "code",
   "execution_count": 92,
   "id": "45d6b37f",
   "metadata": {},
   "outputs": [],
   "source": [
    "# 80% train, 20% val\n",
    "# Only the training set is oversampled\n",
    "train_under_,val_under_ = np.split(pd.DataFrame(train_under).sample(frac=1, random_state=42), \n",
    "                       [int(.8*len(train_under))])"
   ]
  },
  {
   "cell_type": "markdown",
   "id": "9cf60dd9",
   "metadata": {},
   "source": [
    "## 5b) Oversampling"
   ]
  },
  {
   "cell_type": "code",
   "execution_count": 93,
   "id": "6f22f1c1",
   "metadata": {},
   "outputs": [],
   "source": [
    "from imblearn.over_sampling import SMOTE"
   ]
  },
  {
   "cell_type": "code",
   "execution_count": 94,
   "id": "4a27e7e5",
   "metadata": {},
   "outputs": [
    {
     "data": {
      "text/plain": [
       "0.0    42577\n",
       "1.0     1023\n",
       "Name: default, dtype: int64"
      ]
     },
     "execution_count": 94,
     "metadata": {},
     "output_type": "execute_result"
    }
   ],
   "source": [
    "train_under_['default'].value_counts()"
   ]
  },
  {
   "cell_type": "code",
   "execution_count": 95,
   "id": "989208cd",
   "metadata": {},
   "outputs": [],
   "source": [
    "# oversampling the training set\n",
    "smote = SMOTE(sampling_strategy=0.6,k_neighbors=5)\n",
    "X_train_under_over, y_train_under_over = smote.fit_resample(train_under_.drop(columns=['default']), \n",
    "                                                            train_under_['default']\n",
    "                                                           )\n"
   ]
  },
  {
   "cell_type": "code",
   "execution_count": 96,
   "id": "d1f18236",
   "metadata": {},
   "outputs": [
    {
     "data": {
      "text/plain": [
       "0.0    42577\n",
       "1.0    25546\n",
       "Name: default, dtype: int64"
      ]
     },
     "execution_count": 96,
     "metadata": {},
     "output_type": "execute_result"
    },
    {
     "data": {
      "image/png": "[encoded data removed]",
      "text/plain": [
       "<Figure size 576x396 with 1 Axes>"
      ]
     },
     "metadata": {
      "image/png": {
       "height": 329,
       "width": 499
      }
     },
     "output_type": "display_data"
    }
   ],
   "source": [
    "plt.bar(['non defaulters','defaulters'],y_train_under_over.value_counts().values)\n",
    "y_train_under_over.value_counts()"
   ]
  },
  {
   "cell_type": "code",
   "execution_count": 97,
   "id": "e08fdcd0",
   "metadata": {},
   "outputs": [],
   "source": [
    "# put X and y-labels together\n",
    "X_train_under_over.insert(0, 'default', y_train_under_over)"
   ]
  },
  {
   "cell_type": "code",
   "execution_count": 98,
   "id": "7db98d15",
   "metadata": {},
   "outputs": [],
   "source": [
    "# shuffle the dataset\n",
    "train_model = X_train_under_over.sample(frac=1,random_state=42)"
   ]
  },
  {
   "cell_type": "code",
   "execution_count": 99,
   "id": "401d0c55",
   "metadata": {},
   "outputs": [],
   "source": [
    "val_model = val_under_\n",
    "test_model = pd.DataFrame(test_norm,columns=train_model.columns).drop(columns=['default'])"
   ]
  },
  {
   "cell_type": "code",
   "execution_count": 100,
   "id": "824b3c59",
   "metadata": {},
   "outputs": [],
   "source": [
    "train_model.to_csv('train_columns.csv', index=False, header=True)\n",
    "#train_model.to_csv('train.csv', index=False, header=False)\n",
    "#val_model.to_csv('val.csv', index=False, header=False)\n",
    "#test_model.to_csv('test.csv', index=False, header=False)"
   ]
  },
  {
   "cell_type": "code",
   "execution_count": 101,
   "id": "04f90c11",
   "metadata": {},
   "outputs": [],
   "source": [
    "prefix= 'modeling'\n",
    "boto3.Session().resource('s3').Bucket(bucket).Object(os.path.join(prefix, 'train_columns.csv')).upload_file('train_columns.csv')\n",
    "\n",
    "boto3.Session().resource('s3').Bucket(bucket).Object(os.path.join(prefix, 'train.csv')).upload_file('train.csv')\n",
    "\n",
    "boto3.Session().resource('s3').Bucket(bucket).Object(os.path.join(prefix, 'val.csv')).upload_file('val.csv')\n",
    "\n",
    "boto3.Session().resource('s3').Bucket(bucket).Object(os.path.join(prefix, 'test.csv')).upload_file('test.csv')"
   ]
  }
 ],
 "metadata": {
  "kernelspec": {
   "display_name": "conda_python3",
   "language": "python",
   "name": "conda_python3"
  },
  "language_info": {
   "codemirror_mode": {
    "name": "ipython",
    "version": 3
   },
   "file_extension": ".py",
   "mimetype": "text/x-python",
   "name": "python",
   "nbconvert_exporter": "python",
   "pygments_lexer": "ipython3",
   "version": "3.6.13"
  }
 },
 "nbformat": 4,
 "nbformat_minor": 5
}
